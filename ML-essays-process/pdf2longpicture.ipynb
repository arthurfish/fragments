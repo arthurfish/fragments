{
 "cells": [
  {
   "cell_type": "code",
   "execution_count": 2,
   "metadata": {},
   "outputs": [],
   "source": [
    "from pdf2image import convert_from_path\n",
    "from PIL import Image\n",
    "images = convert_from_path(r'C:\\Users\\Arthurfish\\Desktop\\fuck.pdf')\n",
    "total_height = 0\n",
    "width = 0\n",
    "for image in images:\n",
    "    total_height += image.height\n",
    "    width = image.width\n",
    "mother = Image.new('RGB',( width, total_height))\n",
    "total_height = 0\n",
    "for image in images:\n",
    "    mother.paste(image, (0, total_height))\n",
    "    total_height += image.height\n",
    "mother.save(r'C:\\Users\\Arthurfish\\Desktop\\merged.jpg')"
   ]
  },
  {
   "cell_type": "code",
   "execution_count": null,
   "metadata": {},
   "outputs": [],
   "source": []
  }
 ],
 "metadata": {
  "interpreter": {
   "hash": "5abc93cbcb415520e3d86f1fb30361769267febdf238c8940915524e1ef6e61c"
  },
  "kernelspec": {
   "display_name": "Python 3.9.7 64-bit ('base': conda)",
   "language": "python",
   "name": "python3"
  },
  "language_info": {
   "codemirror_mode": {
    "name": "ipython",
    "version": 3
   },
   "file_extension": ".py",
   "mimetype": "text/x-python",
   "name": "python",
   "nbconvert_exporter": "python",
   "pygments_lexer": "ipython3",
   "version": "3.10.0"
  },
  "orig_nbformat": 4
 },
 "nbformat": 4,
 "nbformat_minor": 2
}
