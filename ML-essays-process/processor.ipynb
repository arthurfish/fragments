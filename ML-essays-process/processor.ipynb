{
 "cells": [
  {
   "cell_type": "code",
   "execution_count": null,
   "metadata": {},
   "outputs": [],
   "source": [
    "!pip install ruamel.yaml"
   ]
  },
  {
   "cell_type": "code",
   "execution_count": 10,
   "metadata": {},
   "outputs": [],
   "source": [
    "from ruamel_yaml import *"
   ]
  },
  {
   "cell_type": "code",
   "execution_count": 14,
   "metadata": {},
   "outputs": [],
   "source": [
    "core_dict = {}\n",
    "for i in range(0, 5):\n",
    "    with open(f\"2021-12-27-ML-relat-essays-{i}.yaml\", \"r\", encoding='utf-8') as f:\n",
    "        result = load(f.read(), Loader=RoundTripLoader)\n",
    "        for item in result.keys():\n",
    "            if item in core_dict:\n",
    "                core_dict[item] = core_dict[item] + result[item]\n",
    "            else:\n",
    "                core_dict[item] = result[item]\n",
    "\n",
    "with open(\"total.yaml\", \"w\", encoding='utf-8') as f:\n",
    "    dump(data=core_dict, stream=f, Dumper=RoundTripDumper, allow_unicode=True)\n"
   ]
  },
  {
   "cell_type": "code",
   "execution_count": null,
   "metadata": {},
   "outputs": [],
   "source": []
  }
 ],
 "metadata": {
  "interpreter": {
   "hash": "5abc93cbcb415520e3d86f1fb30361769267febdf238c8940915524e1ef6e61c"
  },
  "kernelspec": {
   "display_name": "Python 3.9.7 64-bit ('base': conda)",
   "language": "python",
   "name": "python3"
  },
  "language_info": {
   "codemirror_mode": {
    "name": "ipython",
    "version": 3
   },
   "file_extension": ".py",
   "mimetype": "text/x-python",
   "name": "python",
   "nbconvert_exporter": "python",
   "pygments_lexer": "ipython3",
   "version": "3.9.7"
  },
  "orig_nbformat": 4
 },
 "nbformat": 4,
 "nbformat_minor": 2
}
