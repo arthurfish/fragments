{
 "cells": [
  {
   "cell_type": "code",
   "execution_count": 1,
   "metadata": {},
   "outputs": [],
   "source": [
    "import java.util.Calendar;\n",
    "import java.time.format.DateTimeFormatter;\n",
    "import java.time.format.*;\n",
    "import java.time.LocalDate;"
   ]
  },
  {
   "cell_type": "markdown",
   "metadata": {},
   "source": []
  },
  {
   "cell_type": "code",
   "execution_count": 8,
   "metadata": {},
   "outputs": [
    {
     "name": "stdout",
     "output_type": "stream",
     "text": [
      "2021 Nov 23\n"
     ]
    }
   ],
   "source": [
    "LocalDate date = LocalDate.now();\n",
    "DateTimeFormatter formatter = DateTimeFormatter.ofPattern(\"yyyy MMM dd\", Locale.ENGLISH);\n",
    "String text = date.format(formatter);\n",
    "System.out.println(text);\n",
    "LocalDate parsedDate = LocalDate.parse(text, formatter);"
   ]
  },
  {
   "cell_type": "code",
   "execution_count": null,
   "metadata": {},
   "outputs": [],
   "source": []
  }
 ],
 "metadata": {
  "interpreter": {
   "hash": "ac59ebe37160ed0dfa835113d9b8498d9f09ceb179beaac4002f036b9467c963"
  },
  "kernelspec": {
   "display_name": "Java",
   "language": "java",
   "name": "java"
  },
  "language_info": {
   "codemirror_mode": "java",
   "file_extension": ".jshell",
   "mimetype": "text/x-java-source",
   "name": "java",
   "pygments_lexer": "java",
   "version": "17.0.1+12-LTS-39"
  },
  "orig_nbformat": 4
 },
 "nbformat": 4,
 "nbformat_minor": 2
}
