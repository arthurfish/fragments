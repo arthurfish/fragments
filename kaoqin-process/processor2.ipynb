{
 "cells": [
  {
   "cell_type": "code",
   "execution_count": 63,
   "metadata": {},
   "outputs": [
    {
     "name": "stdout",
     "output_type": "stream",
     "text": [
      "[1, 2, 4, 8, 9, 11, 14, 22, 23, 24, 42, 52, 54, 65, 74, 76, 85, 94, 104, 113, 114, 117, 118, 134, 135, 154, 155, 158, 162, 169, 171, 211, 213, 220, 221, 226, 231, 235, 236, 239, 265, 273, 279]\n"
     ]
    }
   ],
   "source": [
    "import pandas as pd\n",
    "from random import *\n",
    "\n",
    "#df = pd.read_csv(\"kaoqin.csv\")\n",
    "month = 8\n",
    "month_day = 31\n",
    "df = pd.read_excel(f\"2021.{month}.xlsx\")\n",
    "df_names = df[\"Name\"]\n",
    "name_list = df_names.unique().tolist()\n",
    "id_list = []\n",
    "for name in name_list:\n",
    "    try:\n",
    "        id_list.append(df[df[\"Name\"] == name][\"UserId\"].tolist()[0])\n",
    "    except BaseException:\n",
    "        print(\"%%%%%%%%\"+name)\n",
    "    finally:\n",
    "        pass\n",
    "print(id_list)"
   ]
  },
  {
   "cell_type": "code",
   "execution_count": 64,
   "metadata": {},
   "outputs": [],
   "source": [
    "ni = dict(zip(name_list, id_list))"
   ]
  },
  {
   "cell_type": "code",
   "execution_count": 65,
   "metadata": {},
   "outputs": [],
   "source": [
    "if month != df[\"DateTime\"][0].month:\n",
    "    exit(0)\n",
    "year = str(2021)\n",
    "checkin_times = [(6, 49), (11, 30), (12, 20), (17, 0)]\n",
    "outputDataframe = pd.DataFrame()"
   ]
  },
  {
   "cell_type": "code",
   "execution_count": 66,
   "metadata": {},
   "outputs": [
    {
     "name": "stdout",
     "output_type": "stream",
     "text": [
      "陈艺鸣\n",
      "孙新露\n",
      "王启安\n",
      "王威旺\n",
      "朱剑\n",
      "胡宁宁\n",
      "顾雷\n",
      "张岗\n",
      "卢昂\n",
      "肖强\n",
      "彭晓飞\n",
      "马康康\n",
      "尹文齐\n",
      "张茂洋\n",
      "李勇\n",
      "刘振\n",
      "张红亮\n",
      "张秋华\n",
      "贺高昂\n",
      "张彦辉\n",
      "卢学珍\n",
      "孔高飞\n",
      "孙茂华\n",
      "王帅\n",
      "王逢才\n",
      "李文\n",
      "孙冬冬\n",
      "邵勇\n",
      "刘波\n",
      "闵红永\n",
      "顾宁宁\n",
      "梁亮\n",
      "王士明\n",
      "梁克森\n",
      "王祥芳\n",
      "刘腾云\n",
      "孙井辉\n",
      "田洪东\n",
      "刘恒贝\n",
      "范开东\n",
      "王硕锋\n",
      "高建军\n",
      "张廷海\n",
      "      UserId Name Mode            DateTime\n",
      "0        1.0  陈艺鸣   指纹 2021-08-01 06:50:01\n",
      "1        1.0  陈艺鸣   指纹 2021-08-01 11:37:49\n",
      "2        1.0  陈艺鸣   指纹 2021-08-01 12:30:53\n",
      "3        1.0  陈艺鸣   指纹 2021-08-01 17:07:33\n",
      "4        1.0  陈艺鸣   指纹 2021-08-02 06:59:30\n",
      "...      ...  ...  ...                 ...\n",
      "5327   279.0  张廷海   指纹 2021-08-30 17:03:38\n",
      "5328   279.0  张廷海   指纹 2021-08-31 06:59:26\n",
      "5329   279.0  张廷海   指纹 2021-08-31 11:35:42\n",
      "5330   279.0  张廷海   指纹 2021-08-31 12:30:41\n",
      "5331   279.0  张廷海   指纹 2021-08-31 17:06:08\n",
      "\n",
      "[5332 rows x 4 columns]\n"
     ]
    }
   ],
   "source": [
    "for staff in name_list:\n",
    "    print(staff)\n",
    "    for day in range(1, month_day+1):\n",
    "        for (hour, minute) in checkin_times:\n",
    "            #print(f\"{staff} {month}-{day}/{year} {hour}:{minute}\\n\")\n",
    "            mode = \"指纹\"\n",
    "            if randint(1, 32) == 16:\n",
    "                mode = \"刷脸\"\n",
    "            outputDataframe = outputDataframe.append({\"UserId\": ni[staff], \"Name\": staff, \"Mode\": mode, \"DateTime\": pd.to_datetime(f\"{year}/{month}/{day} {hour}:{str(minute+randint(1,10)).zfill(2)}:{randint(0,59)}\", format=\"%Y/%m/%d %H:%M:%S\")}, ignore_index=True)\n",
    "print(outputDataframe)            "
   ]
  },
  {
   "cell_type": "code",
   "execution_count": null,
   "metadata": {},
   "outputs": [],
   "source": [
    "\n"
   ]
  },
  {
   "cell_type": "code",
   "execution_count": 67,
   "metadata": {},
   "outputs": [],
   "source": [
    "outputDataframe.to_excel(f\"new-2021.{month}.xlsx\", index=False)"
   ]
  },
  {
   "cell_type": "code",
   "execution_count": null,
   "metadata": {},
   "outputs": [],
   "source": []
  }
 ],
 "metadata": {
  "interpreter": {
   "hash": "5abc93cbcb415520e3d86f1fb30361769267febdf238c8940915524e1ef6e61c"
  },
  "kernelspec": {
   "display_name": "Python 3.9.7 64-bit ('base': conda)",
   "language": "python",
   "name": "python3"
  },
  "language_info": {
   "codemirror_mode": {
    "name": "ipython",
    "version": 3
   },
   "file_extension": ".py",
   "mimetype": "text/x-python",
   "name": "python",
   "nbconvert_exporter": "python",
   "pygments_lexer": "ipython3",
   "version": "3.9.7"
  },
  "orig_nbformat": 4
 },
 "nbformat": 4,
 "nbformat_minor": 2
}
