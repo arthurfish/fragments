{
 "cells": [
  {
   "cell_type": "code",
   "execution_count": 1,
   "metadata": {},
   "outputs": [],
   "source": [
    "from math import *"
   ]
  },
  {
   "cell_type": "code",
   "execution_count": 2,
   "metadata": {},
   "outputs": [],
   "source": [
    "def f(x):\n",
    "    return sqrt(1-x**2)"
   ]
  },
  {
   "cell_type": "code",
   "execution_count": 11,
   "metadata": {},
   "outputs": [
    {
     "name": "stdout",
     "output_type": "stream",
     "text": [
      "n=4\tR_L=0.93301\tR_M=1.299\tR_R=1.366\n"
     ]
    }
   ],
   "source": [
    "for n in [4]:\n",
    "    R_L = 0\n",
    "    R_M = 0\n",
    "    R_R = 0\n",
    "    a = -1\n",
    "    b = 1\n",
    "    dx = (b-a) / n\n",
    "    for k in range(1, n):\n",
    "        R_L += dx * f(a + (k - 1)*dx)\n",
    "        R_M += dx * f(a + (k - 0.5)*dx)\n",
    "        R_R += dx * f(a + k*dx)\n",
    "    print('n={}\\tR_L={:.5}\\tR_M={:.5}\\tR_R={:.5}'.format(n, R_L, R_M, R_R))"
   ]
  },
  {
   "cell_type": "code",
   "execution_count": null,
   "metadata": {},
   "outputs": [],
   "source": []
  }
 ],
 "metadata": {
  "interpreter": {
   "hash": "ac59ebe37160ed0dfa835113d9b8498d9f09ceb179beaac4002f036b9467c963"
  },
  "kernelspec": {
   "display_name": "Python 3.9.7 64-bit",
   "name": "python3"
  },
  "language_info": {
   "codemirror_mode": {
    "name": "ipython",
    "version": 3
   },
   "file_extension": ".py",
   "mimetype": "text/x-python",
   "name": "python",
   "nbconvert_exporter": "python",
   "pygments_lexer": "ipython3",
   "version": "3.10.0"
  },
  "orig_nbformat": 4
 },
 "nbformat": 4,
 "nbformat_minor": 2
}
