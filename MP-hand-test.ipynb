{
 "cells": [
  {
   "cell_type": "code",
   "execution_count": 14,
   "metadata": {},
   "outputs": [],
   "source": [
    "import cv2\n",
    "import mediapipe as mp"
   ]
  },
  {
   "cell_type": "code",
   "execution_count": 15,
   "metadata": {},
   "outputs": [],
   "source": [
    "hands = mp.solutions.hands.Hands(\n",
    "    model_complexity=0,\n",
    "    min_detection_confidence=0.5,\n",
    "    min_tracking_confidence=0.8\n",
    ")\n",
    "cap = cv2.VideoCapture(0)"
   ]
  },
  {
   "cell_type": "code",
   "execution_count": 16,
   "metadata": {},
   "outputs": [],
   "source": [
    "_, image = cap.read()"
   ]
  },
  {
   "cell_type": "code",
   "execution_count": 17,
   "metadata": {},
   "outputs": [],
   "source": [
    "image = cv2.cvtColor(image, cv2.COLOR_BGR2RGB)\n",
    "results = hands.process(image)"
   ]
  },
  {
   "cell_type": "code",
   "execution_count": 18,
   "metadata": {},
   "outputs": [
    {
     "data": {
      "text/plain": [
       "[landmark {\n",
       "   x: 0.43160203099250793\n",
       "   y: 0.7174582481384277\n",
       "   z: 1.026659290914722e-08\n",
       " }\n",
       " landmark {\n",
       "   x: 0.4947526156902313\n",
       "   y: 0.6671217083930969\n",
       "   z: -0.018702801316976547\n",
       " }\n",
       " landmark {\n",
       "   x: 0.5330958366394043\n",
       "   y: 0.5931509733200073\n",
       "   z: -0.025295333936810493\n",
       " }\n",
       " landmark {\n",
       "   x: 0.5501314997673035\n",
       "   y: 0.5240345597267151\n",
       "   z: -0.03248836100101471\n",
       " }\n",
       " landmark {\n",
       "   x: 0.5695046782493591\n",
       "   y: 0.4734748899936676\n",
       "   z: -0.040034219622612\n",
       " }\n",
       " landmark {\n",
       "   x: 0.47991758584976196\n",
       "   y: 0.5191511511802673\n",
       "   z: -0.0004490365390665829\n",
       " }\n",
       " landmark {\n",
       "   x: 0.4913865029811859\n",
       "   y: 0.4354096055030823\n",
       "   z: -0.008584811352193356\n",
       " }\n",
       " landmark {\n",
       "   x: 0.4957299530506134\n",
       "   y: 0.38481712341308594\n",
       "   z: -0.015830840915441513\n",
       " }\n",
       " landmark {\n",
       "   x: 0.4971960186958313\n",
       "   y: 0.3396489918231964\n",
       "   z: -0.022188574075698853\n",
       " }\n",
       " landmark {\n",
       "   x: 0.43882933259010315\n",
       "   y: 0.5125419497489929\n",
       "   z: -0.0023415733594447374\n",
       " }\n",
       " landmark {\n",
       "   x: 0.43873894214630127\n",
       "   y: 0.42285069823265076\n",
       "   z: -0.010158032178878784\n",
       " }\n",
       " landmark {\n",
       "   x: 0.4386284351348877\n",
       "   y: 0.3654367923736572\n",
       "   z: -0.02332458086311817\n",
       " }\n",
       " landmark {\n",
       "   x: 0.4370851218700409\n",
       "   y: 0.3155565857887268\n",
       "   z: -0.03393123671412468\n",
       " }\n",
       " landmark {\n",
       "   x: 0.4000166058540344\n",
       "   y: 0.523114025592804\n",
       "   z: -0.007706348318606615\n",
       " }\n",
       " landmark {\n",
       "   x: 0.38360509276390076\n",
       "   y: 0.44447872042655945\n",
       "   z: -0.020529570057988167\n",
       " }\n",
       " landmark {\n",
       "   x: 0.3746546506881714\n",
       "   y: 0.3949580192565918\n",
       "   z: -0.03646638244390488\n",
       " }\n",
       " landmark {\n",
       "   x: 0.3699784576892853\n",
       "   y: 0.35159868001937866\n",
       "   z: -0.04678264260292053\n",
       " }\n",
       " landmark {\n",
       "   x: 0.36342963576316833\n",
       "   y: 0.5480650663375854\n",
       "   z: -0.015364229679107666\n",
       " }\n",
       " landmark {\n",
       "   x: 0.34078410267829895\n",
       "   y: 0.4882940948009491\n",
       "   z: -0.026990778744220734\n",
       " }\n",
       " landmark {\n",
       "   x: 0.3292698860168457\n",
       "   y: 0.4523264169692993\n",
       "   z: -0.03699417784810066\n",
       " }\n",
       " landmark {\n",
       "   x: 0.3218206763267517\n",
       "   y: 0.41917097568511963\n",
       "   z: -0.04378417506814003\n",
       " }]"
      ]
     },
     "execution_count": 18,
     "metadata": {},
     "output_type": "execute_result"
    }
   ],
   "source": [
    "results.multi_hand_landmarks"
   ]
  },
  {
   "cell_type": "code",
   "execution_count": 19,
   "metadata": {},
   "outputs": [],
   "source": [
    "cap.release()"
   ]
  },
  {
   "cell_type": "code",
   "execution_count": 20,
   "metadata": {},
   "outputs": [
    {
     "data": {
      "text/plain": [
       "<method 'index' of 'tuple' objects>"
      ]
     },
     "execution_count": 20,
     "metadata": {},
     "output_type": "execute_result"
    }
   ],
   "source": [
    "results.index"
   ]
  },
  {
   "cell_type": "code",
   "execution_count": 21,
   "metadata": {},
   "outputs": [
    {
     "name": "stdout",
     "output_type": "stream",
     "text": [
      "<method 'index' of 'tuple' objects>\n"
     ]
    }
   ],
   "source": [
    "print(results.index)"
   ]
  },
  {
   "cell_type": "code",
   "execution_count": 22,
   "metadata": {},
   "outputs": [
    {
     "data": {
      "text/plain": [
       "method_descriptor"
      ]
     },
     "execution_count": 22,
     "metadata": {},
     "output_type": "execute_result"
    }
   ],
   "source": [
    "type(results.index)"
   ]
  },
  {
   "cell_type": "code",
   "execution_count": 23,
   "metadata": {},
   "outputs": [],
   "source": [
    "r1 = results.multi_hand_world_landmarks"
   ]
  },
  {
   "cell_type": "code",
   "execution_count": 24,
   "metadata": {},
   "outputs": [
    {
     "name": "stdout",
     "output_type": "stream",
     "text": [
      "[landmark {\n",
      "  x: 0.002102689817547798\n",
      "  y: 0.08130642771720886\n",
      "  z: -0.012642127461731434\n",
      "}\n",
      "landmark {\n",
      "  x: 0.027738209813833237\n",
      "  y: 0.055448003113269806\n",
      "  z: -0.0157423485070467\n",
      "}\n",
      "landmark {\n",
      "  x: 0.04806351661682129\n",
      "  y: 0.030172282829880714\n",
      "  z: -0.013521146960556507\n",
      "}\n",
      "landmark {\n",
      "  x: 0.06103704124689102\n",
      "  y: -0.0009666071273386478\n",
      "  z: -0.009894042275846004\n",
      "}\n",
      "landmark {\n",
      "  x: 0.06882001459598541\n",
      "  y: -0.0227899719029665\n",
      "  z: 0.0006169176776893437\n",
      "}\n",
      "landmark {\n",
      "  x: 0.02428450621664524\n",
      "  y: -0.002990983659401536\n",
      "  z: 0.002189444378018379\n",
      "}\n",
      "landmark {\n",
      "  x: 0.03046013042330742\n",
      "  y: -0.03288814797997475\n",
      "  z: -0.002335138153284788\n",
      "}\n",
      "landmark {\n",
      "  x: 0.03227408230304718\n",
      "  y: -0.05006961524486542\n",
      "  z: -0.010496522299945354\n",
      "}\n",
      "landmark {\n",
      "  x: 0.03568100556731224\n",
      "  y: -0.0680742859840393\n",
      "  z: -0.03238271549344063\n",
      "}\n",
      "landmark {\n",
      "  x: 0.0038100285455584526\n",
      "  y: -0.004306574817746878\n",
      "  z: 0.0031536309979856014\n",
      "}\n",
      "landmark {\n",
      "  x: 0.006065737456083298\n",
      "  y: -0.03671613708138466\n",
      "  z: 0.0010739724384620786\n",
      "}\n",
      "landmark {\n",
      "  x: 0.00819600373506546\n",
      "  y: -0.061183713376522064\n",
      "  z: -0.011107194237411022\n",
      "}\n",
      "landmark {\n",
      "  x: 0.011411398649215698\n",
      "  y: -0.07835784554481506\n",
      "  z: -0.037371765822172165\n",
      "}\n",
      "landmark {\n",
      "  x: -0.015474413521587849\n",
      "  y: 0.0020263069309294224\n",
      "  z: -5.626570327876834e-06\n",
      "}\n",
      "landmark {\n",
      "  x: -0.021863389760255814\n",
      "  y: -0.02803758904337883\n",
      "  z: -0.003671336220577359\n",
      "}\n",
      "landmark {\n",
      "  x: -0.023865412920713425\n",
      "  y: -0.04716861993074417\n",
      "  z: -0.01607164554297924\n",
      "}\n",
      "landmark {\n",
      "  x: -0.02523830346763134\n",
      "  y: -0.06234029307961464\n",
      "  z: -0.033377934247255325\n",
      "}\n",
      "landmark {\n",
      "  x: -0.03160999342799187\n",
      "  y: 0.013066176325082779\n",
      "  z: -0.009087844751775265\n",
      "}\n",
      "landmark {\n",
      "  x: -0.04227041080594063\n",
      "  y: -0.009416845627129078\n",
      "  z: -0.011612070724368095\n",
      "}\n",
      "landmark {\n",
      "  x: -0.048657506704330444\n",
      "  y: -0.025333084166049957\n",
      "  z: -0.021786509081721306\n",
      "}\n",
      "landmark {\n",
      "  x: -0.050241123884916306\n",
      "  y: -0.03477027639746666\n",
      "  z: -0.032295260578393936\n",
      "}\n",
      "]\n"
     ]
    }
   ],
   "source": [
    "print(r1)"
   ]
  },
  {
   "cell_type": "code",
   "execution_count": 25,
   "metadata": {},
   "outputs": [
    {
     "data": {
      "text/plain": [
       "[landmark {\n",
       "   x: 0.002102689817547798\n",
       "   y: 0.08130642771720886\n",
       "   z: -0.012642127461731434\n",
       " }\n",
       " landmark {\n",
       "   x: 0.027738209813833237\n",
       "   y: 0.055448003113269806\n",
       "   z: -0.0157423485070467\n",
       " }\n",
       " landmark {\n",
       "   x: 0.04806351661682129\n",
       "   y: 0.030172282829880714\n",
       "   z: -0.013521146960556507\n",
       " }\n",
       " landmark {\n",
       "   x: 0.06103704124689102\n",
       "   y: -0.0009666071273386478\n",
       "   z: -0.009894042275846004\n",
       " }\n",
       " landmark {\n",
       "   x: 0.06882001459598541\n",
       "   y: -0.0227899719029665\n",
       "   z: 0.0006169176776893437\n",
       " }\n",
       " landmark {\n",
       "   x: 0.02428450621664524\n",
       "   y: -0.002990983659401536\n",
       "   z: 0.002189444378018379\n",
       " }\n",
       " landmark {\n",
       "   x: 0.03046013042330742\n",
       "   y: -0.03288814797997475\n",
       "   z: -0.002335138153284788\n",
       " }\n",
       " landmark {\n",
       "   x: 0.03227408230304718\n",
       "   y: -0.05006961524486542\n",
       "   z: -0.010496522299945354\n",
       " }\n",
       " landmark {\n",
       "   x: 0.03568100556731224\n",
       "   y: -0.0680742859840393\n",
       "   z: -0.03238271549344063\n",
       " }\n",
       " landmark {\n",
       "   x: 0.0038100285455584526\n",
       "   y: -0.004306574817746878\n",
       "   z: 0.0031536309979856014\n",
       " }\n",
       " landmark {\n",
       "   x: 0.006065737456083298\n",
       "   y: -0.03671613708138466\n",
       "   z: 0.0010739724384620786\n",
       " }\n",
       " landmark {\n",
       "   x: 0.00819600373506546\n",
       "   y: -0.061183713376522064\n",
       "   z: -0.011107194237411022\n",
       " }\n",
       " landmark {\n",
       "   x: 0.011411398649215698\n",
       "   y: -0.07835784554481506\n",
       "   z: -0.037371765822172165\n",
       " }\n",
       " landmark {\n",
       "   x: -0.015474413521587849\n",
       "   y: 0.0020263069309294224\n",
       "   z: -5.626570327876834e-06\n",
       " }\n",
       " landmark {\n",
       "   x: -0.021863389760255814\n",
       "   y: -0.02803758904337883\n",
       "   z: -0.003671336220577359\n",
       " }\n",
       " landmark {\n",
       "   x: -0.023865412920713425\n",
       "   y: -0.04716861993074417\n",
       "   z: -0.01607164554297924\n",
       " }\n",
       " landmark {\n",
       "   x: -0.02523830346763134\n",
       "   y: -0.06234029307961464\n",
       "   z: -0.033377934247255325\n",
       " }\n",
       " landmark {\n",
       "   x: -0.03160999342799187\n",
       "   y: 0.013066176325082779\n",
       "   z: -0.009087844751775265\n",
       " }\n",
       " landmark {\n",
       "   x: -0.04227041080594063\n",
       "   y: -0.009416845627129078\n",
       "   z: -0.011612070724368095\n",
       " }\n",
       " landmark {\n",
       "   x: -0.048657506704330444\n",
       "   y: -0.025333084166049957\n",
       "   z: -0.021786509081721306\n",
       " }\n",
       " landmark {\n",
       "   x: -0.050241123884916306\n",
       "   y: -0.03477027639746666\n",
       "   z: -0.032295260578393936\n",
       " }]"
      ]
     },
     "execution_count": 25,
     "metadata": {},
     "output_type": "execute_result"
    }
   ],
   "source": [
    "r1"
   ]
  },
  {
   "cell_type": "code",
   "execution_count": 26,
   "metadata": {},
   "outputs": [],
   "source": [
    "r1 = r1[0]"
   ]
  },
  {
   "cell_type": "code",
   "execution_count": 27,
   "metadata": {},
   "outputs": [
    {
     "data": {
      "text/plain": [
       "x: 0.011411398649215698\n",
       "y: -0.07835784554481506\n",
       "z: -0.037371765822172165"
      ]
     },
     "execution_count": 27,
     "metadata": {},
     "output_type": "execute_result"
    }
   ],
   "source": [
    "r1.landmark[12]"
   ]
  },
  {
   "cell_type": "code",
   "execution_count": 28,
   "metadata": {},
   "outputs": [],
   "source": [
    "import tkinter as tk"
   ]
  },
  {
   "cell_type": "code",
   "execution_count": 29,
   "metadata": {},
   "outputs": [],
   "source": [
    "f1 = tk.Tk()"
   ]
  },
  {
   "cell_type": "code",
   "execution_count": 33,
   "metadata": {},
   "outputs": [],
   "source": [
    "r2 = r1.landmark[12]"
   ]
  },
  {
   "cell_type": "code",
   "execution_count": 34,
   "metadata": {},
   "outputs": [
    {
     "data": {
      "text/plain": [
       "x: 0.011411398649215698\n",
       "y: -0.07835784554481506\n",
       "z: -0.037371765822172165"
      ]
     },
     "execution_count": 34,
     "metadata": {},
     "output_type": "execute_result"
    }
   ],
   "source": [
    "r2"
   ]
  },
  {
   "cell_type": "code",
   "execution_count": 35,
   "metadata": {},
   "outputs": [
    {
     "data": {
      "text/plain": [
       "0.011411398649215698"
      ]
     },
     "execution_count": 35,
     "metadata": {},
     "output_type": "execute_result"
    }
   ],
   "source": [
    "r2.x"
   ]
  },
  {
   "cell_type": "code",
   "execution_count": null,
   "metadata": {},
   "outputs": [],
   "source": []
  }
 ],
 "metadata": {
  "interpreter": {
   "hash": "ac59ebe37160ed0dfa835113d9b8498d9f09ceb179beaac4002f036b9467c963"
  },
  "kernelspec": {
   "display_name": "Python 3.9.7 64-bit",
   "language": "python",
   "name": "python3"
  },
  "language_info": {
   "codemirror_mode": {
    "name": "ipython",
    "version": 3
   },
   "file_extension": ".py",
   "mimetype": "text/x-python",
   "name": "python",
   "nbconvert_exporter": "python",
   "pygments_lexer": "ipython3",
   "version": "3.9.7"
  },
  "orig_nbformat": 4
 },
 "nbformat": 4,
 "nbformat_minor": 2
}
