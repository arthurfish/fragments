{
 "cells": [
  {
   "cell_type": "code",
   "execution_count": 197,
   "metadata": {},
   "outputs": [],
   "source": [
    "import pandas as pd\n",
    "import numpy as np\n",
    "import nltk\n",
    "import json"
   ]
  },
  {
   "cell_type": "code",
   "execution_count": 198,
   "metadata": {},
   "outputs": [],
   "source": [
    "weights = {'keywords': 20, 'overview': 5, 'genres':20, 'language':20, }"
   ]
  },
  {
   "cell_type": "code",
   "execution_count": 199,
   "metadata": {},
   "outputs": [
    {
     "data": {
      "text/html": [
       "<div>\n",
       "<style scoped>\n",
       "    .dataframe tbody tr th:only-of-type {\n",
       "        vertical-align: middle;\n",
       "    }\n",
       "\n",
       "    .dataframe tbody tr th {\n",
       "        vertical-align: top;\n",
       "    }\n",
       "\n",
       "    .dataframe thead th {\n",
       "        text-align: right;\n",
       "    }\n",
       "</style>\n",
       "<table border=\"1\" class=\"dataframe\">\n",
       "  <thead>\n",
       "    <tr style=\"text-align: right;\">\n",
       "      <th></th>\n",
       "      <th>budget</th>\n",
       "      <th>genres</th>\n",
       "      <th>homepage</th>\n",
       "      <th>id</th>\n",
       "      <th>keywords</th>\n",
       "      <th>original_language</th>\n",
       "      <th>original_title</th>\n",
       "      <th>overview</th>\n",
       "      <th>popularity</th>\n",
       "      <th>production_companies</th>\n",
       "      <th>production_countries</th>\n",
       "      <th>release_date</th>\n",
       "      <th>revenue</th>\n",
       "      <th>runtime</th>\n",
       "      <th>spoken_languages</th>\n",
       "      <th>status</th>\n",
       "      <th>tagline</th>\n",
       "      <th>title</th>\n",
       "      <th>vote_average</th>\n",
       "      <th>vote_count</th>\n",
       "    </tr>\n",
       "  </thead>\n",
       "  <tbody>\n",
       "    <tr>\n",
       "      <th>0</th>\n",
       "      <td>237000000</td>\n",
       "      <td>[{\"id\": 28, \"name\": \"Action\"}, {\"id\": 12, \"nam...</td>\n",
       "      <td>http://www.avatarmovie.com/</td>\n",
       "      <td>19995</td>\n",
       "      <td>[{\"id\": 1463, \"name\": \"culture clash\"}, {\"id\":...</td>\n",
       "      <td>en</td>\n",
       "      <td>Avatar</td>\n",
       "      <td>In the 22nd century, a paraplegic Marine is di...</td>\n",
       "      <td>150.437577</td>\n",
       "      <td>[{\"name\": \"Ingenious Film Partners\", \"id\": 289...</td>\n",
       "      <td>[{\"iso_3166_1\": \"US\", \"name\": \"United States o...</td>\n",
       "      <td>2009-12-10</td>\n",
       "      <td>2787965087</td>\n",
       "      <td>162.0</td>\n",
       "      <td>[{\"iso_639_1\": \"en\", \"name\": \"English\"}, {\"iso...</td>\n",
       "      <td>Released</td>\n",
       "      <td>Enter the World of Pandora.</td>\n",
       "      <td>Avatar</td>\n",
       "      <td>7.2</td>\n",
       "      <td>11800</td>\n",
       "    </tr>\n",
       "    <tr>\n",
       "      <th>1</th>\n",
       "      <td>300000000</td>\n",
       "      <td>[{\"id\": 12, \"name\": \"Adventure\"}, {\"id\": 14, \"...</td>\n",
       "      <td>http://disney.go.com/disneypictures/pirates/</td>\n",
       "      <td>285</td>\n",
       "      <td>[{\"id\": 270, \"name\": \"ocean\"}, {\"id\": 726, \"na...</td>\n",
       "      <td>en</td>\n",
       "      <td>Pirates of the Caribbean: At World's End</td>\n",
       "      <td>Captain Barbossa, long believed to be dead, ha...</td>\n",
       "      <td>139.082615</td>\n",
       "      <td>[{\"name\": \"Walt Disney Pictures\", \"id\": 2}, {\"...</td>\n",
       "      <td>[{\"iso_3166_1\": \"US\", \"name\": \"United States o...</td>\n",
       "      <td>2007-05-19</td>\n",
       "      <td>961000000</td>\n",
       "      <td>169.0</td>\n",
       "      <td>[{\"iso_639_1\": \"en\", \"name\": \"English\"}]</td>\n",
       "      <td>Released</td>\n",
       "      <td>At the end of the world, the adventure begins.</td>\n",
       "      <td>Pirates of the Caribbean: At World's End</td>\n",
       "      <td>6.9</td>\n",
       "      <td>4500</td>\n",
       "    </tr>\n",
       "    <tr>\n",
       "      <th>2</th>\n",
       "      <td>245000000</td>\n",
       "      <td>[{\"id\": 28, \"name\": \"Action\"}, {\"id\": 12, \"nam...</td>\n",
       "      <td>http://www.sonypictures.com/movies/spectre/</td>\n",
       "      <td>206647</td>\n",
       "      <td>[{\"id\": 470, \"name\": \"spy\"}, {\"id\": 818, \"name...</td>\n",
       "      <td>en</td>\n",
       "      <td>Spectre</td>\n",
       "      <td>A cryptic message from Bond’s past sends him o...</td>\n",
       "      <td>107.376788</td>\n",
       "      <td>[{\"name\": \"Columbia Pictures\", \"id\": 5}, {\"nam...</td>\n",
       "      <td>[{\"iso_3166_1\": \"GB\", \"name\": \"United Kingdom\"...</td>\n",
       "      <td>2015-10-26</td>\n",
       "      <td>880674609</td>\n",
       "      <td>148.0</td>\n",
       "      <td>[{\"iso_639_1\": \"fr\", \"name\": \"Fran\\u00e7ais\"},...</td>\n",
       "      <td>Released</td>\n",
       "      <td>A Plan No One Escapes</td>\n",
       "      <td>Spectre</td>\n",
       "      <td>6.3</td>\n",
       "      <td>4466</td>\n",
       "    </tr>\n",
       "    <tr>\n",
       "      <th>3</th>\n",
       "      <td>250000000</td>\n",
       "      <td>[{\"id\": 28, \"name\": \"Action\"}, {\"id\": 80, \"nam...</td>\n",
       "      <td>http://www.thedarkknightrises.com/</td>\n",
       "      <td>49026</td>\n",
       "      <td>[{\"id\": 849, \"name\": \"dc comics\"}, {\"id\": 853,...</td>\n",
       "      <td>en</td>\n",
       "      <td>The Dark Knight Rises</td>\n",
       "      <td>Following the death of District Attorney Harve...</td>\n",
       "      <td>112.312950</td>\n",
       "      <td>[{\"name\": \"Legendary Pictures\", \"id\": 923}, {\"...</td>\n",
       "      <td>[{\"iso_3166_1\": \"US\", \"name\": \"United States o...</td>\n",
       "      <td>2012-07-16</td>\n",
       "      <td>1084939099</td>\n",
       "      <td>165.0</td>\n",
       "      <td>[{\"iso_639_1\": \"en\", \"name\": \"English\"}]</td>\n",
       "      <td>Released</td>\n",
       "      <td>The Legend Ends</td>\n",
       "      <td>The Dark Knight Rises</td>\n",
       "      <td>7.6</td>\n",
       "      <td>9106</td>\n",
       "    </tr>\n",
       "    <tr>\n",
       "      <th>4</th>\n",
       "      <td>260000000</td>\n",
       "      <td>[{\"id\": 28, \"name\": \"Action\"}, {\"id\": 12, \"nam...</td>\n",
       "      <td>http://movies.disney.com/john-carter</td>\n",
       "      <td>49529</td>\n",
       "      <td>[{\"id\": 818, \"name\": \"based on novel\"}, {\"id\":...</td>\n",
       "      <td>en</td>\n",
       "      <td>John Carter</td>\n",
       "      <td>John Carter is a war-weary, former military ca...</td>\n",
       "      <td>43.926995</td>\n",
       "      <td>[{\"name\": \"Walt Disney Pictures\", \"id\": 2}]</td>\n",
       "      <td>[{\"iso_3166_1\": \"US\", \"name\": \"United States o...</td>\n",
       "      <td>2012-03-07</td>\n",
       "      <td>284139100</td>\n",
       "      <td>132.0</td>\n",
       "      <td>[{\"iso_639_1\": \"en\", \"name\": \"English\"}]</td>\n",
       "      <td>Released</td>\n",
       "      <td>Lost in our world, found in another.</td>\n",
       "      <td>John Carter</td>\n",
       "      <td>6.1</td>\n",
       "      <td>2124</td>\n",
       "    </tr>\n",
       "  </tbody>\n",
       "</table>\n",
       "</div>"
      ],
      "text/plain": [
       "      budget                                             genres  \\\n",
       "0  237000000  [{\"id\": 28, \"name\": \"Action\"}, {\"id\": 12, \"nam...   \n",
       "1  300000000  [{\"id\": 12, \"name\": \"Adventure\"}, {\"id\": 14, \"...   \n",
       "2  245000000  [{\"id\": 28, \"name\": \"Action\"}, {\"id\": 12, \"nam...   \n",
       "3  250000000  [{\"id\": 28, \"name\": \"Action\"}, {\"id\": 80, \"nam...   \n",
       "4  260000000  [{\"id\": 28, \"name\": \"Action\"}, {\"id\": 12, \"nam...   \n",
       "\n",
       "                                       homepage      id  \\\n",
       "0                   http://www.avatarmovie.com/   19995   \n",
       "1  http://disney.go.com/disneypictures/pirates/     285   \n",
       "2   http://www.sonypictures.com/movies/spectre/  206647   \n",
       "3            http://www.thedarkknightrises.com/   49026   \n",
       "4          http://movies.disney.com/john-carter   49529   \n",
       "\n",
       "                                            keywords original_language  \\\n",
       "0  [{\"id\": 1463, \"name\": \"culture clash\"}, {\"id\":...                en   \n",
       "1  [{\"id\": 270, \"name\": \"ocean\"}, {\"id\": 726, \"na...                en   \n",
       "2  [{\"id\": 470, \"name\": \"spy\"}, {\"id\": 818, \"name...                en   \n",
       "3  [{\"id\": 849, \"name\": \"dc comics\"}, {\"id\": 853,...                en   \n",
       "4  [{\"id\": 818, \"name\": \"based on novel\"}, {\"id\":...                en   \n",
       "\n",
       "                             original_title  \\\n",
       "0                                    Avatar   \n",
       "1  Pirates of the Caribbean: At World's End   \n",
       "2                                   Spectre   \n",
       "3                     The Dark Knight Rises   \n",
       "4                               John Carter   \n",
       "\n",
       "                                            overview  popularity  \\\n",
       "0  In the 22nd century, a paraplegic Marine is di...  150.437577   \n",
       "1  Captain Barbossa, long believed to be dead, ha...  139.082615   \n",
       "2  A cryptic message from Bond’s past sends him o...  107.376788   \n",
       "3  Following the death of District Attorney Harve...  112.312950   \n",
       "4  John Carter is a war-weary, former military ca...   43.926995   \n",
       "\n",
       "                                production_companies  \\\n",
       "0  [{\"name\": \"Ingenious Film Partners\", \"id\": 289...   \n",
       "1  [{\"name\": \"Walt Disney Pictures\", \"id\": 2}, {\"...   \n",
       "2  [{\"name\": \"Columbia Pictures\", \"id\": 5}, {\"nam...   \n",
       "3  [{\"name\": \"Legendary Pictures\", \"id\": 923}, {\"...   \n",
       "4        [{\"name\": \"Walt Disney Pictures\", \"id\": 2}]   \n",
       "\n",
       "                                production_countries release_date     revenue  \\\n",
       "0  [{\"iso_3166_1\": \"US\", \"name\": \"United States o...   2009-12-10  2787965087   \n",
       "1  [{\"iso_3166_1\": \"US\", \"name\": \"United States o...   2007-05-19   961000000   \n",
       "2  [{\"iso_3166_1\": \"GB\", \"name\": \"United Kingdom\"...   2015-10-26   880674609   \n",
       "3  [{\"iso_3166_1\": \"US\", \"name\": \"United States o...   2012-07-16  1084939099   \n",
       "4  [{\"iso_3166_1\": \"US\", \"name\": \"United States o...   2012-03-07   284139100   \n",
       "\n",
       "   runtime                                   spoken_languages    status  \\\n",
       "0    162.0  [{\"iso_639_1\": \"en\", \"name\": \"English\"}, {\"iso...  Released   \n",
       "1    169.0           [{\"iso_639_1\": \"en\", \"name\": \"English\"}]  Released   \n",
       "2    148.0  [{\"iso_639_1\": \"fr\", \"name\": \"Fran\\u00e7ais\"},...  Released   \n",
       "3    165.0           [{\"iso_639_1\": \"en\", \"name\": \"English\"}]  Released   \n",
       "4    132.0           [{\"iso_639_1\": \"en\", \"name\": \"English\"}]  Released   \n",
       "\n",
       "                                          tagline  \\\n",
       "0                     Enter the World of Pandora.   \n",
       "1  At the end of the world, the adventure begins.   \n",
       "2                           A Plan No One Escapes   \n",
       "3                                 The Legend Ends   \n",
       "4            Lost in our world, found in another.   \n",
       "\n",
       "                                      title  vote_average  vote_count  \n",
       "0                                    Avatar           7.2       11800  \n",
       "1  Pirates of the Caribbean: At World's End           6.9        4500  \n",
       "2                                   Spectre           6.3        4466  \n",
       "3                     The Dark Knight Rises           7.6        9106  \n",
       "4                               John Carter           6.1        2124  "
      ]
     },
     "execution_count": 199,
     "metadata": {},
     "output_type": "execute_result"
    }
   ],
   "source": [
    "origin_db = pd.read_csv('tmdb_5000_movies.csv')\n",
    "origin_db.head()"
   ]
  },
  {
   "cell_type": "code",
   "execution_count": 200,
   "metadata": {},
   "outputs": [
    {
     "data": {
      "text/plain": [
       "Index(['budget', 'genres', 'homepage', 'id', 'keywords', 'original_language',\n",
       "       'original_title', 'overview', 'popularity', 'production_companies',\n",
       "       'production_countries', 'release_date', 'revenue', 'runtime',\n",
       "       'spoken_languages', 'status', 'tagline', 'title', 'vote_average',\n",
       "       'vote_count'],\n",
       "      dtype='object')"
      ]
     },
     "execution_count": 200,
     "metadata": {},
     "output_type": "execute_result"
    }
   ],
   "source": [
    "origin_db.columns"
   ]
  },
  {
   "cell_type": "code",
   "execution_count": 201,
   "metadata": {},
   "outputs": [
    {
     "data": {
      "text/html": [
       "<div>\n",
       "<style scoped>\n",
       "    .dataframe tbody tr th:only-of-type {\n",
       "        vertical-align: middle;\n",
       "    }\n",
       "\n",
       "    .dataframe tbody tr th {\n",
       "        vertical-align: top;\n",
       "    }\n",
       "\n",
       "    .dataframe thead th {\n",
       "        text-align: right;\n",
       "    }\n",
       "</style>\n",
       "<table border=\"1\" class=\"dataframe\">\n",
       "  <thead>\n",
       "    <tr style=\"text-align: right;\">\n",
       "      <th></th>\n",
       "      <th>title</th>\n",
       "      <th>genres</th>\n",
       "      <th>keywords</th>\n",
       "      <th>spoken_languages</th>\n",
       "      <th>overview</th>\n",
       "      <th>production_companies</th>\n",
       "      <th>release_date</th>\n",
       "      <th>runtime</th>\n",
       "      <th>vote_average</th>\n",
       "    </tr>\n",
       "  </thead>\n",
       "  <tbody>\n",
       "    <tr>\n",
       "      <th>0</th>\n",
       "      <td>Avatar</td>\n",
       "      <td>[{\"id\": 28, \"name\": \"Action\"}, {\"id\": 12, \"nam...</td>\n",
       "      <td>[{\"id\": 1463, \"name\": \"culture clash\"}, {\"id\":...</td>\n",
       "      <td>[{\"iso_639_1\": \"en\", \"name\": \"English\"}, {\"iso...</td>\n",
       "      <td>In the 22nd century, a paraplegic Marine is di...</td>\n",
       "      <td>[{\"name\": \"Ingenious Film Partners\", \"id\": 289...</td>\n",
       "      <td>2009-12-10</td>\n",
       "      <td>162.0</td>\n",
       "      <td>7.2</td>\n",
       "    </tr>\n",
       "    <tr>\n",
       "      <th>1</th>\n",
       "      <td>Pirates of the Caribbean: At World's End</td>\n",
       "      <td>[{\"id\": 12, \"name\": \"Adventure\"}, {\"id\": 14, \"...</td>\n",
       "      <td>[{\"id\": 270, \"name\": \"ocean\"}, {\"id\": 726, \"na...</td>\n",
       "      <td>[{\"iso_639_1\": \"en\", \"name\": \"English\"}]</td>\n",
       "      <td>Captain Barbossa, long believed to be dead, ha...</td>\n",
       "      <td>[{\"name\": \"Walt Disney Pictures\", \"id\": 2}, {\"...</td>\n",
       "      <td>2007-05-19</td>\n",
       "      <td>169.0</td>\n",
       "      <td>6.9</td>\n",
       "    </tr>\n",
       "    <tr>\n",
       "      <th>2</th>\n",
       "      <td>Spectre</td>\n",
       "      <td>[{\"id\": 28, \"name\": \"Action\"}, {\"id\": 12, \"nam...</td>\n",
       "      <td>[{\"id\": 470, \"name\": \"spy\"}, {\"id\": 818, \"name...</td>\n",
       "      <td>[{\"iso_639_1\": \"fr\", \"name\": \"Fran\\u00e7ais\"},...</td>\n",
       "      <td>A cryptic message from Bond’s past sends him o...</td>\n",
       "      <td>[{\"name\": \"Columbia Pictures\", \"id\": 5}, {\"nam...</td>\n",
       "      <td>2015-10-26</td>\n",
       "      <td>148.0</td>\n",
       "      <td>6.3</td>\n",
       "    </tr>\n",
       "    <tr>\n",
       "      <th>3</th>\n",
       "      <td>The Dark Knight Rises</td>\n",
       "      <td>[{\"id\": 28, \"name\": \"Action\"}, {\"id\": 80, \"nam...</td>\n",
       "      <td>[{\"id\": 849, \"name\": \"dc comics\"}, {\"id\": 853,...</td>\n",
       "      <td>[{\"iso_639_1\": \"en\", \"name\": \"English\"}]</td>\n",
       "      <td>Following the death of District Attorney Harve...</td>\n",
       "      <td>[{\"name\": \"Legendary Pictures\", \"id\": 923}, {\"...</td>\n",
       "      <td>2012-07-16</td>\n",
       "      <td>165.0</td>\n",
       "      <td>7.6</td>\n",
       "    </tr>\n",
       "    <tr>\n",
       "      <th>4</th>\n",
       "      <td>John Carter</td>\n",
       "      <td>[{\"id\": 28, \"name\": \"Action\"}, {\"id\": 12, \"nam...</td>\n",
       "      <td>[{\"id\": 818, \"name\": \"based on novel\"}, {\"id\":...</td>\n",
       "      <td>[{\"iso_639_1\": \"en\", \"name\": \"English\"}]</td>\n",
       "      <td>John Carter is a war-weary, former military ca...</td>\n",
       "      <td>[{\"name\": \"Walt Disney Pictures\", \"id\": 2}]</td>\n",
       "      <td>2012-03-07</td>\n",
       "      <td>132.0</td>\n",
       "      <td>6.1</td>\n",
       "    </tr>\n",
       "    <tr>\n",
       "      <th>...</th>\n",
       "      <td>...</td>\n",
       "      <td>...</td>\n",
       "      <td>...</td>\n",
       "      <td>...</td>\n",
       "      <td>...</td>\n",
       "      <td>...</td>\n",
       "      <td>...</td>\n",
       "      <td>...</td>\n",
       "      <td>...</td>\n",
       "    </tr>\n",
       "    <tr>\n",
       "      <th>4798</th>\n",
       "      <td>El Mariachi</td>\n",
       "      <td>[{\"id\": 28, \"name\": \"Action\"}, {\"id\": 80, \"nam...</td>\n",
       "      <td>[{\"id\": 5616, \"name\": \"united states\\u2013mexi...</td>\n",
       "      <td>[{\"iso_639_1\": \"es\", \"name\": \"Espa\\u00f1ol\"}]</td>\n",
       "      <td>El Mariachi just wants to play his guitar and ...</td>\n",
       "      <td>[{\"name\": \"Columbia Pictures\", \"id\": 5}]</td>\n",
       "      <td>1992-09-04</td>\n",
       "      <td>81.0</td>\n",
       "      <td>6.6</td>\n",
       "    </tr>\n",
       "    <tr>\n",
       "      <th>4799</th>\n",
       "      <td>Newlyweds</td>\n",
       "      <td>[{\"id\": 35, \"name\": \"Comedy\"}, {\"id\": 10749, \"...</td>\n",
       "      <td>[]</td>\n",
       "      <td>[]</td>\n",
       "      <td>A newlywed couple's honeymoon is upended by th...</td>\n",
       "      <td>[]</td>\n",
       "      <td>2011-12-26</td>\n",
       "      <td>85.0</td>\n",
       "      <td>5.9</td>\n",
       "    </tr>\n",
       "    <tr>\n",
       "      <th>4800</th>\n",
       "      <td>Signed, Sealed, Delivered</td>\n",
       "      <td>[{\"id\": 35, \"name\": \"Comedy\"}, {\"id\": 18, \"nam...</td>\n",
       "      <td>[{\"id\": 248, \"name\": \"date\"}, {\"id\": 699, \"nam...</td>\n",
       "      <td>[{\"iso_639_1\": \"en\", \"name\": \"English\"}]</td>\n",
       "      <td>\"Signed, Sealed, Delivered\" introduces a dedic...</td>\n",
       "      <td>[{\"name\": \"Front Street Pictures\", \"id\": 3958}...</td>\n",
       "      <td>2013-10-13</td>\n",
       "      <td>120.0</td>\n",
       "      <td>7.0</td>\n",
       "    </tr>\n",
       "    <tr>\n",
       "      <th>4801</th>\n",
       "      <td>Shanghai Calling</td>\n",
       "      <td>[]</td>\n",
       "      <td>[]</td>\n",
       "      <td>[{\"iso_639_1\": \"en\", \"name\": \"English\"}]</td>\n",
       "      <td>When ambitious New York attorney Sam is sent t...</td>\n",
       "      <td>[]</td>\n",
       "      <td>2012-05-03</td>\n",
       "      <td>98.0</td>\n",
       "      <td>5.7</td>\n",
       "    </tr>\n",
       "    <tr>\n",
       "      <th>4802</th>\n",
       "      <td>My Date with Drew</td>\n",
       "      <td>[{\"id\": 99, \"name\": \"Documentary\"}]</td>\n",
       "      <td>[{\"id\": 1523, \"name\": \"obsession\"}, {\"id\": 224...</td>\n",
       "      <td>[{\"iso_639_1\": \"en\", \"name\": \"English\"}]</td>\n",
       "      <td>Ever since the second grade when he first saw ...</td>\n",
       "      <td>[{\"name\": \"rusty bear entertainment\", \"id\": 87...</td>\n",
       "      <td>2005-08-05</td>\n",
       "      <td>90.0</td>\n",
       "      <td>6.3</td>\n",
       "    </tr>\n",
       "  </tbody>\n",
       "</table>\n",
       "<p>4803 rows × 9 columns</p>\n",
       "</div>"
      ],
      "text/plain": [
       "                                         title  \\\n",
       "0                                       Avatar   \n",
       "1     Pirates of the Caribbean: At World's End   \n",
       "2                                      Spectre   \n",
       "3                        The Dark Knight Rises   \n",
       "4                                  John Carter   \n",
       "...                                        ...   \n",
       "4798                               El Mariachi   \n",
       "4799                                 Newlyweds   \n",
       "4800                 Signed, Sealed, Delivered   \n",
       "4801                          Shanghai Calling   \n",
       "4802                         My Date with Drew   \n",
       "\n",
       "                                                 genres  \\\n",
       "0     [{\"id\": 28, \"name\": \"Action\"}, {\"id\": 12, \"nam...   \n",
       "1     [{\"id\": 12, \"name\": \"Adventure\"}, {\"id\": 14, \"...   \n",
       "2     [{\"id\": 28, \"name\": \"Action\"}, {\"id\": 12, \"nam...   \n",
       "3     [{\"id\": 28, \"name\": \"Action\"}, {\"id\": 80, \"nam...   \n",
       "4     [{\"id\": 28, \"name\": \"Action\"}, {\"id\": 12, \"nam...   \n",
       "...                                                 ...   \n",
       "4798  [{\"id\": 28, \"name\": \"Action\"}, {\"id\": 80, \"nam...   \n",
       "4799  [{\"id\": 35, \"name\": \"Comedy\"}, {\"id\": 10749, \"...   \n",
       "4800  [{\"id\": 35, \"name\": \"Comedy\"}, {\"id\": 18, \"nam...   \n",
       "4801                                                 []   \n",
       "4802                [{\"id\": 99, \"name\": \"Documentary\"}]   \n",
       "\n",
       "                                               keywords  \\\n",
       "0     [{\"id\": 1463, \"name\": \"culture clash\"}, {\"id\":...   \n",
       "1     [{\"id\": 270, \"name\": \"ocean\"}, {\"id\": 726, \"na...   \n",
       "2     [{\"id\": 470, \"name\": \"spy\"}, {\"id\": 818, \"name...   \n",
       "3     [{\"id\": 849, \"name\": \"dc comics\"}, {\"id\": 853,...   \n",
       "4     [{\"id\": 818, \"name\": \"based on novel\"}, {\"id\":...   \n",
       "...                                                 ...   \n",
       "4798  [{\"id\": 5616, \"name\": \"united states\\u2013mexi...   \n",
       "4799                                                 []   \n",
       "4800  [{\"id\": 248, \"name\": \"date\"}, {\"id\": 699, \"nam...   \n",
       "4801                                                 []   \n",
       "4802  [{\"id\": 1523, \"name\": \"obsession\"}, {\"id\": 224...   \n",
       "\n",
       "                                       spoken_languages  \\\n",
       "0     [{\"iso_639_1\": \"en\", \"name\": \"English\"}, {\"iso...   \n",
       "1              [{\"iso_639_1\": \"en\", \"name\": \"English\"}]   \n",
       "2     [{\"iso_639_1\": \"fr\", \"name\": \"Fran\\u00e7ais\"},...   \n",
       "3              [{\"iso_639_1\": \"en\", \"name\": \"English\"}]   \n",
       "4              [{\"iso_639_1\": \"en\", \"name\": \"English\"}]   \n",
       "...                                                 ...   \n",
       "4798      [{\"iso_639_1\": \"es\", \"name\": \"Espa\\u00f1ol\"}]   \n",
       "4799                                                 []   \n",
       "4800           [{\"iso_639_1\": \"en\", \"name\": \"English\"}]   \n",
       "4801           [{\"iso_639_1\": \"en\", \"name\": \"English\"}]   \n",
       "4802           [{\"iso_639_1\": \"en\", \"name\": \"English\"}]   \n",
       "\n",
       "                                               overview  \\\n",
       "0     In the 22nd century, a paraplegic Marine is di...   \n",
       "1     Captain Barbossa, long believed to be dead, ha...   \n",
       "2     A cryptic message from Bond’s past sends him o...   \n",
       "3     Following the death of District Attorney Harve...   \n",
       "4     John Carter is a war-weary, former military ca...   \n",
       "...                                                 ...   \n",
       "4798  El Mariachi just wants to play his guitar and ...   \n",
       "4799  A newlywed couple's honeymoon is upended by th...   \n",
       "4800  \"Signed, Sealed, Delivered\" introduces a dedic...   \n",
       "4801  When ambitious New York attorney Sam is sent t...   \n",
       "4802  Ever since the second grade when he first saw ...   \n",
       "\n",
       "                                   production_companies release_date  runtime  \\\n",
       "0     [{\"name\": \"Ingenious Film Partners\", \"id\": 289...   2009-12-10    162.0   \n",
       "1     [{\"name\": \"Walt Disney Pictures\", \"id\": 2}, {\"...   2007-05-19    169.0   \n",
       "2     [{\"name\": \"Columbia Pictures\", \"id\": 5}, {\"nam...   2015-10-26    148.0   \n",
       "3     [{\"name\": \"Legendary Pictures\", \"id\": 923}, {\"...   2012-07-16    165.0   \n",
       "4           [{\"name\": \"Walt Disney Pictures\", \"id\": 2}]   2012-03-07    132.0   \n",
       "...                                                 ...          ...      ...   \n",
       "4798           [{\"name\": \"Columbia Pictures\", \"id\": 5}]   1992-09-04     81.0   \n",
       "4799                                                 []   2011-12-26     85.0   \n",
       "4800  [{\"name\": \"Front Street Pictures\", \"id\": 3958}...   2013-10-13    120.0   \n",
       "4801                                                 []   2012-05-03     98.0   \n",
       "4802  [{\"name\": \"rusty bear entertainment\", \"id\": 87...   2005-08-05     90.0   \n",
       "\n",
       "      vote_average  \n",
       "0              7.2  \n",
       "1              6.9  \n",
       "2              6.3  \n",
       "3              7.6  \n",
       "4              6.1  \n",
       "...            ...  \n",
       "4798           6.6  \n",
       "4799           5.9  \n",
       "4800           7.0  \n",
       "4801           5.7  \n",
       "4802           6.3  \n",
       "\n",
       "[4803 rows x 9 columns]"
      ]
     },
     "execution_count": 201,
     "metadata": {},
     "output_type": "execute_result"
    }
   ],
   "source": [
    "selected_features = ['title', 'genres', 'keywords', 'spoken_languages', 'overview',\n",
    "    'production_companies', 'release_date', 'runtime', 'vote_average']\n",
    "db = origin_db[selected_features].copy()\n",
    "db"
   ]
  },
  {
   "cell_type": "code",
   "execution_count": 202,
   "metadata": {},
   "outputs": [
    {
     "name": "stdout",
     "output_type": "stream",
     "text": [
      "(4803, 9)\n",
      "(4799, 9)\n"
     ]
    }
   ],
   "source": [
    "print(db.shape)\n",
    "db.dropna(inplace=True)\n",
    "print(db.shape)"
   ]
  },
  {
   "cell_type": "code",
   "execution_count": 203,
   "metadata": {},
   "outputs": [
    {
     "data": {
      "text/html": [
       "<div>\n",
       "<style scoped>\n",
       "    .dataframe tbody tr th:only-of-type {\n",
       "        vertical-align: middle;\n",
       "    }\n",
       "\n",
       "    .dataframe tbody tr th {\n",
       "        vertical-align: top;\n",
       "    }\n",
       "\n",
       "    .dataframe thead th {\n",
       "        text-align: right;\n",
       "    }\n",
       "</style>\n",
       "<table border=\"1\" class=\"dataframe\">\n",
       "  <thead>\n",
       "    <tr style=\"text-align: right;\">\n",
       "      <th></th>\n",
       "      <th>title</th>\n",
       "      <th>genres</th>\n",
       "      <th>keywords</th>\n",
       "      <th>spoken_languages</th>\n",
       "      <th>overview</th>\n",
       "      <th>production_companies</th>\n",
       "      <th>release_date</th>\n",
       "      <th>runtime</th>\n",
       "      <th>vote_average</th>\n",
       "    </tr>\n",
       "  </thead>\n",
       "  <tbody>\n",
       "    <tr>\n",
       "      <th>3823</th>\n",
       "      <td>Midnight Cowboy</td>\n",
       "      <td>[{\"id\": 18, \"name\": \"Drama\"}]</td>\n",
       "      <td>[{\"id\": 1879, \"name\": \"shower\"}]</td>\n",
       "      <td>[{\"iso_639_1\": \"en\", \"name\": \"English\"}, {\"iso...</td>\n",
       "      <td>A naive male prostitute and his sickly friend ...</td>\n",
       "      <td>[{\"name\": \"United Artists\", \"id\": 60}, {\"name\"...</td>\n",
       "      <td>1969-05-25</td>\n",
       "      <td>113.0</td>\n",
       "      <td>7.4</td>\n",
       "    </tr>\n",
       "  </tbody>\n",
       "</table>\n",
       "</div>"
      ],
      "text/plain": [
       "                title                         genres  \\\n",
       "3823  Midnight Cowboy  [{\"id\": 18, \"name\": \"Drama\"}]   \n",
       "\n",
       "                              keywords  \\\n",
       "3823  [{\"id\": 1879, \"name\": \"shower\"}]   \n",
       "\n",
       "                                       spoken_languages  \\\n",
       "3823  [{\"iso_639_1\": \"en\", \"name\": \"English\"}, {\"iso...   \n",
       "\n",
       "                                               overview  \\\n",
       "3823  A naive male prostitute and his sickly friend ...   \n",
       "\n",
       "                                   production_companies release_date  runtime  \\\n",
       "3823  [{\"name\": \"United Artists\", \"id\": 60}, {\"name\"...   1969-05-25    113.0   \n",
       "\n",
       "      vote_average  \n",
       "3823           7.4  "
      ]
     },
     "execution_count": 203,
     "metadata": {},
     "output_type": "execute_result"
    }
   ],
   "source": [
    "db.sample()"
   ]
  },
  {
   "cell_type": "code",
   "execution_count": 204,
   "metadata": {},
   "outputs": [
    {
     "data": {
      "text/plain": [
       "0       In the 22nd century, a paraplegic Marine is di...\n",
       "1       Captain Barbossa, long believed to be dead, ha...\n",
       "2       A cryptic message from Bond’s past sends him o...\n",
       "3       Following the death of District Attorney Harve...\n",
       "4       John Carter is a war-weary, former military ca...\n",
       "                              ...                        \n",
       "4798    El Mariachi just wants to play his guitar and ...\n",
       "4799    A newlywed couple's honeymoon is upended by th...\n",
       "4800    \"Signed, Sealed, Delivered\" introduces a dedic...\n",
       "4801    When ambitious New York attorney Sam is sent t...\n",
       "4802    Ever since the second grade when he first saw ...\n",
       "Length: 4799, dtype: object"
      ]
     },
     "execution_count": 204,
     "metadata": {},
     "output_type": "execute_result"
    }
   ],
   "source": [
    "##############################################\n",
    "#This cell merge overview from another dataset\n",
    "##############################################\n",
    "edb = pd.read_csv('wiki_movie_plots_deduped_with_summaries.csv')\n",
    "db.title = db.title.apply(lambda x: x.strip().lower())\n",
    "edb.Title = edb.Title.apply(lambda x: x.strip().lower())\n",
    "def append_plot(row):\n",
    "    try:\n",
    "        first_row = edb[edb.Title == row['title']].iloc[0]\n",
    "    except:\n",
    "        return row.overview\n",
    "    row['overview'] = (row['overview'] * weights['overview']  + first_row['Plot'])\n",
    "    return row['overview']\n",
    "overview_result = db.apply(append_plot, axis=1)\n",
    "overview_result"
   ]
  },
  {
   "cell_type": "code",
   "execution_count": 205,
   "metadata": {},
   "outputs": [
    {
     "data": {
      "text/plain": [
       "0       in the 22nd century, a paraplegic marine is di...\n",
       "1       captain barbossa, long believed to be dead, ha...\n",
       "2       a cryptic message from bond’s past sends him o...\n",
       "3       following the death of district attorney harve...\n",
       "4       john carter is a war-weary, former military ca...\n",
       "                              ...                        \n",
       "4798    el mariachi just wants to play his guitar and ...\n",
       "4799    a newlywed couple's honeymoon is upended by th...\n",
       "4800    \"signed, sealed, delivered\" introduces a dedic...\n",
       "4801    when ambitious new york attorney sam is sent t...\n",
       "4802    ever since the second grade when he first saw ...\n",
       "Length: 4799, dtype: object"
      ]
     },
     "execution_count": 205,
     "metadata": {},
     "output_type": "execute_result"
    }
   ],
   "source": [
    "overviews = overview_result\n",
    "overviews = overviews.map(lambda x: x.lower())\n",
    "overviews"
   ]
  },
  {
   "cell_type": "code",
   "execution_count": 206,
   "metadata": {},
   "outputs": [
    {
     "data": {
      "text/plain": [
       "0       in the 22nd century a paraplegic marine is dis...\n",
       "1       captain barbossa long believed to be dead has ...\n",
       "2       a cryptic message from bond’s past sends him o...\n",
       "3       following the death of district attorney harve...\n",
       "4       john carter is a warweary former military capt...\n",
       "                              ...                        \n",
       "4798    el mariachi just wants to play his guitar and ...\n",
       "4799    a newlywed couples honeymoon is upended by the...\n",
       "4800    signed sealed delivered introduces a dedicated...\n",
       "4801    when ambitious new york attorney sam is sent t...\n",
       "4802    ever since the second grade when he first saw ...\n",
       "Length: 4799, dtype: object"
      ]
     },
     "execution_count": 206,
     "metadata": {},
     "output_type": "execute_result"
    }
   ],
   "source": [
    "import string\n",
    "pure_words = overviews.map(lambda text: ''.join([c for c in text if c not in string.punctuation]))\n",
    "pure_words"
   ]
  },
  {
   "cell_type": "code",
   "execution_count": 207,
   "metadata": {},
   "outputs": [
    {
     "data": {
      "text/plain": [
       "0       [in, the, 22nd, century, a, paraplegic, marine...\n",
       "1       [captain, barbossa, long, believed, to, be, de...\n",
       "2       [a, cryptic, message, from, bond, ’, s, past, ...\n",
       "3       [following, the, death, of, district, attorney...\n",
       "4       [john, carter, is, a, warweary, former, milita...\n",
       "                              ...                        \n",
       "4798    [el, mariachi, just, wants, to, play, his, gui...\n",
       "4799    [a, newlywed, couples, honeymoon, is, upended,...\n",
       "4800    [signed, sealed, delivered, introduces, a, ded...\n",
       "4801    [when, ambitious, new, york, attorney, sam, is...\n",
       "4802    [ever, since, the, second, grade, when, he, fi...\n",
       "Length: 4799, dtype: object"
      ]
     },
     "execution_count": 207,
     "metadata": {},
     "output_type": "execute_result"
    }
   ],
   "source": [
    "tokenized_words = pure_words.map(lambda text: nltk.word_tokenize(text))\n",
    "tokenized_words"
   ]
  },
  {
   "cell_type": "code",
   "execution_count": 208,
   "metadata": {},
   "outputs": [
    {
     "data": {
      "text/plain": [
       "0       [22nd, century, paraplegic, marine, dispatched...\n",
       "1       [captain, barbossa, long, believed, dead, come...\n",
       "2       [cryptic, message, bond, ’, past, sends, trail...\n",
       "3       [following, death, district, attorney, harvey,...\n",
       "4       [john, carter, warweary, former, military, cap...\n",
       "                              ...                        \n",
       "4798    [el, mariachi, wants, play, guitar, carry, fam...\n",
       "4799    [newlywed, couples, honeymoon, upended, arriva...\n",
       "4800    [signed, sealed, delivered, introduces, dedica...\n",
       "4801    [ambitious, new, york, attorney, sam, sent, sh...\n",
       "4802    [ever, since, second, grade, first, saw, et, e...\n",
       "Length: 4799, dtype: object"
      ]
     },
     "execution_count": 208,
     "metadata": {},
     "output_type": "execute_result"
    }
   ],
   "source": [
    "from nltk.corpus import stopwords\n",
    "stopword_set = stopwords.words('english')\n",
    "stopword_wipped = tokenized_words.map(lambda text_list: [word for word in text_list if word not in stopword_set])\n",
    "stopword_wipped"
   ]
  },
  {
   "cell_type": "code",
   "execution_count": 209,
   "metadata": {},
   "outputs": [
    {
     "data": {
      "text/plain": [
       "0       22nd centuri parapleg marin dispatch moon pand...\n",
       "1       captain barbossa long believ dead come back li...\n",
       "2       cryptic messag bond ’ past send trail uncov si...\n",
       "3       follow death district attorney harvey dent bat...\n",
       "4       john carter warweari former militari captain w...\n",
       "                              ...                        \n",
       "4798    el mariachi want play guitar carri famili trad...\n",
       "4799    newlyw coupl honeymoon upend arriv respect sister\n",
       "4800    sign seal deliv introduc dedic quartet civil s...\n",
       "4801    ambiti new york attorney sam sent shanghai ass...\n",
       "4802    ever sinc second grade first saw et extraterre...\n",
       "Length: 4799, dtype: object"
      ]
     },
     "execution_count": 209,
     "metadata": {},
     "output_type": "execute_result"
    }
   ],
   "source": [
    "from nltk.stem.porter import PorterStemmer\n",
    "stemmed_words = stopword_wipped.map(lambda word_list: ' '.join([PorterStemmer().stem(word) for word in word_list]))\n",
    "stemmed_words"
   ]
  },
  {
   "cell_type": "code",
   "execution_count": 210,
   "metadata": {},
   "outputs": [
    {
     "data": {
      "text/plain": [
       "0       22nd centuri parapleg marin dispatch moon pand...\n",
       "1       captain barbossa long believ dead come back li...\n",
       "2       cryptic messag bond ’ past send trail uncov si...\n",
       "3       follow death district attorney harvey dent bat...\n",
       "4       john carter warweari former militari captain w...\n",
       "                              ...                        \n",
       "4798    el mariachi want play guitar carri famili trad...\n",
       "4799    newlyw coupl honeymoon upend arriv respect sister\n",
       "4800    sign seal deliv introduc dedic quartet civil s...\n",
       "4801    ambiti new york attorney sam sent shanghai ass...\n",
       "4802    ever sinc second grade first saw et extraterre...\n",
       "Name: processed_overview, Length: 4799, dtype: object"
      ]
     },
     "execution_count": 210,
     "metadata": {},
     "output_type": "execute_result"
    }
   ],
   "source": [
    "db['processed_overview'] = stemmed_words\n",
    "db['processed_overview']\n"
   ]
  },
  {
   "cell_type": "code",
   "execution_count": 211,
   "metadata": {},
   "outputs": [
    {
     "data": {
      "text/plain": [
       "0       culture clash futur space war space coloni soc...\n",
       "1       ocean drug abus exotic island east india tradi...\n",
       "2       spi based on novel secret ag sequel mi6 britis...\n",
       "3       dc comic crime fight terrorist secret ident bu...\n",
       "4       based on novel mar medallion space travel prin...\n",
       "                              ...                        \n",
       "4798    united states–mexico barri leg arm paper knif ...\n",
       "4799                                                     \n",
       "4800    date love at first sight narrat investig team ...\n",
       "4801                                                     \n",
       "4802    obsess camcord crush dream girlobsess camcord ...\n",
       "Name: keywords, Length: 4799, dtype: object"
      ]
     },
     "execution_count": 211,
     "metadata": {},
     "output_type": "execute_result"
    }
   ],
   "source": [
    "pure_keywords = db['keywords'].map(lambda json_text: ' '.join([PorterStemmer().stem(item['name']) for item in json.loads(json_text)]))\n",
    "pure_keywords *= weights['keywords']\n",
    "pure_keywords"
   ]
  },
  {
   "cell_type": "code",
   "execution_count": 212,
   "metadata": {},
   "outputs": [
    {
     "data": {
      "text/plain": [
       "0         HIGH-REVENUE\n",
       "1       MEDIUM-REVENUE\n",
       "2       MEDIUM-REVENUE\n",
       "3         HIGH-REVENUE\n",
       "4          LOW-REVENUE\n",
       "             ...      \n",
       "4798       LOW-REVENUE\n",
       "4799       LOW-REVENUE\n",
       "4800       LOW-REVENUE\n",
       "4801       LOW-REVENUE\n",
       "4802       LOW-REVENUE\n",
       "Name: revenue_categories, Length: 4799, dtype: object"
      ]
     },
     "execution_count": 212,
     "metadata": {},
     "output_type": "execute_result"
    }
   ],
   "source": [
    "revenue_categories = origin_db['revenue'].map(lambda x: 'HIGH-REVENUE' if x >= 1* 10**9 else 'MEDIUM-REVENUE' if x >= 0.5 * 10**9 else 'LOW-REVENUE')\n",
    "db['revenue_categories'] = revenue_categories\n",
    "db['revenue_categories']"
   ]
  },
  {
   "cell_type": "code",
   "execution_count": 213,
   "metadata": {},
   "outputs": [
    {
     "data": {
      "text/plain": [
       "0       [{\"name\": \"Ingenious Film Partners\", \"id\": 289...\n",
       "1       [{\"name\": \"Walt Disney Pictures\", \"id\": 2}, {\"...\n",
       "2       [{\"name\": \"Columbia Pictures\", \"id\": 5}, {\"nam...\n",
       "3       [{\"name\": \"Legendary Pictures\", \"id\": 923}, {\"...\n",
       "4             [{\"name\": \"Walt Disney Pictures\", \"id\": 2}]\n",
       "                              ...                        \n",
       "4798             [{\"name\": \"Columbia Pictures\", \"id\": 5}]\n",
       "4799                                                   []\n",
       "4800    [{\"name\": \"Front Street Pictures\", \"id\": 3958}...\n",
       "4801                                                   []\n",
       "4802    [{\"name\": \"rusty bear entertainment\", \"id\": 87...\n",
       "Name: production_companies, Length: 4799, dtype: object"
      ]
     },
     "execution_count": 213,
     "metadata": {},
     "output_type": "execute_result"
    }
   ],
   "source": [
    "compaies = db['production_companies']\n",
    "compaies"
   ]
  },
  {
   "cell_type": "code",
   "execution_count": 214,
   "metadata": {},
   "outputs": [
    {
     "data": {
      "text/plain": [
       "0       Ingenious Film Partners Twentieth Century Fox ...\n",
       "1       Walt Disney Pictures Jerry Bruckheimer Films S...\n",
       "2                            Columbia Pictures Danjaq B24\n",
       "3       Legendary Pictures Warner Bros. DC Entertainme...\n",
       "4                                    Walt Disney Pictures\n",
       "                              ...                        \n",
       "4798                                    Columbia Pictures\n",
       "4799                                                     \n",
       "4800    Front Street Pictures Muse Entertainment Enter...\n",
       "4801                                                     \n",
       "4802            rusty bear entertainment lucky crow films\n",
       "Name: compaies_processed, Length: 4799, dtype: object"
      ]
     },
     "execution_count": 214,
     "metadata": {},
     "output_type": "execute_result"
    }
   ],
   "source": [
    "compaies_processed = compaies.map(lambda row: ' '.join(\n",
    "    [item['name'] for item in json.loads(row)]))\n",
    "db['compaies_processed'] = compaies_processed\n",
    "db['compaies_processed']"
   ]
  },
  {
   "cell_type": "code",
   "execution_count": 215,
   "metadata": {},
   "outputs": [
    {
     "data": {
      "text/plain": [
       "0       [{\"iso_639_1\": \"en\", \"name\": \"English\"}, {\"iso...\n",
       "1                [{\"iso_639_1\": \"en\", \"name\": \"English\"}]\n",
       "2       [{\"iso_639_1\": \"fr\", \"name\": \"Fran\\u00e7ais\"},...\n",
       "3                [{\"iso_639_1\": \"en\", \"name\": \"English\"}]\n",
       "4                [{\"iso_639_1\": \"en\", \"name\": \"English\"}]\n",
       "                              ...                        \n",
       "4798        [{\"iso_639_1\": \"es\", \"name\": \"Espa\\u00f1ol\"}]\n",
       "4799                                                   []\n",
       "4800             [{\"iso_639_1\": \"en\", \"name\": \"English\"}]\n",
       "4801             [{\"iso_639_1\": \"en\", \"name\": \"English\"}]\n",
       "4802             [{\"iso_639_1\": \"en\", \"name\": \"English\"}]\n",
       "Name: spoken_languages, Length: 4799, dtype: object"
      ]
     },
     "execution_count": 215,
     "metadata": {},
     "output_type": "execute_result"
    }
   ],
   "source": [
    "languages = db['spoken_languages']\n",
    "languages"
   ]
  },
  {
   "cell_type": "code",
   "execution_count": 216,
   "metadata": {},
   "outputs": [
    {
     "data": {
      "text/plain": [
       "0       enenenenenenenenenenenenenenenenenenenen esese...\n",
       "1                enenenenenenenenenenenenenenenenenenenen\n",
       "2       frfrfrfrfrfrfrfrfrfrfrfrfrfrfrfrfrfrfrfr enene...\n",
       "3                enenenenenenenenenenenenenenenenenenenen\n",
       "4                enenenenenenenenenenenenenenenenenenenen\n",
       "                              ...                        \n",
       "4798             eseseseseseseseseseseseseseseseseseseses\n",
       "4799                                                     \n",
       "4800             enenenenenenenenenenenenenenenenenenenen\n",
       "4801             enenenenenenenenenenenenenenenenenenenen\n",
       "4802             enenenenenenenenenenenenenenenenenenenen\n",
       "Name: languages_processed, Length: 4799, dtype: object"
      ]
     },
     "execution_count": 216,
     "metadata": {},
     "output_type": "execute_result"
    }
   ],
   "source": [
    "languages_processed = languages.map(lambda row: ' '.join(\n",
    "    [(item['iso_639_1'] + ' ') * weights['language'] for item in json.loads(row)]))\n",
    "db['languages_processed'] = languages_processed\n",
    "db['languages_processed']\n"
   ]
  },
  {
   "cell_type": "code",
   "execution_count": 217,
   "metadata": {},
   "outputs": [
    {
     "data": {
      "text/plain": [
       "Index(['title', 'genres', 'keywords', 'spoken_languages', 'overview',\n",
       "       'production_companies', 'release_date', 'runtime', 'vote_average',\n",
       "       'processed_overview', 'revenue_categories', 'compaies_processed',\n",
       "       'languages_processed'],\n",
       "      dtype='object')"
      ]
     },
     "execution_count": 217,
     "metadata": {},
     "output_type": "execute_result"
    }
   ],
   "source": [
    "db.columns"
   ]
  },
  {
   "cell_type": "code",
   "execution_count": 218,
   "metadata": {},
   "outputs": [
    {
     "data": {
      "text/plain": [
       "<AxesSubplot:ylabel='Frequency'>"
      ]
     },
     "execution_count": 218,
     "metadata": {},
     "output_type": "execute_result"
    },
    {
     "data": {
      "image/png": "[encoded data removed]",
      "text/plain": [
       "<Figure size 432x288 with 1 Axes>"
      ]
     },
     "metadata": {
      "needs_background": "light"
     },
     "output_type": "display_data"
    }
   ],
   "source": [
    "years = pd.to_datetime(db['release_date']).dt.year\n",
    "years.plot(kind='hist')"
   ]
  },
  {
   "cell_type": "code",
   "execution_count": null,
   "metadata": {},
   "outputs": [],
   "source": []
  },
  {
   "cell_type": "code",
   "execution_count": 219,
   "metadata": {},
   "outputs": [
    {
     "data": {
      "text/plain": [
       "0       2000\n",
       "1       2000\n",
       "2       2010\n",
       "3       2010\n",
       "4       2010\n",
       "        ... \n",
       "4798    1990\n",
       "4799    2010\n",
       "4800    2010\n",
       "4801    2010\n",
       "4802    2000\n",
       "Name: years_processed, Length: 4799, dtype: int64"
      ]
     },
     "execution_count": 219,
     "metadata": {},
     "output_type": "execute_result"
    }
   ],
   "source": [
    "years_processed = years.apply(lambda year: (year // 10 * 10) if year >= 1980 else 1960)\n",
    "db['years_processed'] = years_processed\n",
    "db['years_processed']"
   ]
  },
  {
   "cell_type": "code",
   "execution_count": 220,
   "metadata": {},
   "outputs": [
    {
     "data": {
      "text/plain": [
       "Index(['title', 'genres', 'keywords', 'spoken_languages', 'overview',\n",
       "       'production_companies', 'release_date', 'runtime', 'vote_average',\n",
       "       'processed_overview', 'revenue_categories', 'compaies_processed',\n",
       "       'languages_processed', 'years_processed'],\n",
       "      dtype='object')"
      ]
     },
     "execution_count": 220,
     "metadata": {},
     "output_type": "execute_result"
    }
   ],
   "source": [
    "db.columns"
   ]
  },
  {
   "cell_type": "code",
   "execution_count": 221,
   "metadata": {},
   "outputs": [
    {
     "data": {
      "text/plain": [
       "<AxesSubplot:ylabel='Frequency'>"
      ]
     },
     "execution_count": 221,
     "metadata": {},
     "output_type": "execute_result"
    },
    {
     "data": {
      "image/png": "[encoded data removed]",
      "text/plain": [
       "<Figure size 432x288 with 1 Axes>"
      ]
     },
     "metadata": {
      "needs_background": "light"
     },
     "output_type": "display_data"
    }
   ],
   "source": [
    "db.vote_average.plot(kind='hist')"
   ]
  },
  {
   "cell_type": "code",
   "execution_count": 222,
   "metadata": {},
   "outputs": [
    {
     "data": {
      "text/plain": [
       "0         GOOD\n",
       "1         GOOD\n",
       "2         GOOD\n",
       "3         GOOD\n",
       "4         GOOD\n",
       "         ...  \n",
       "4798      GOOD\n",
       "4799    MEDIAM\n",
       "4800      GOOD\n",
       "4801    MEDIAM\n",
       "4802      GOOD\n",
       "Name: votes_processed, Length: 4799, dtype: object"
      ]
     },
     "execution_count": 222,
     "metadata": {},
     "output_type": "execute_result"
    }
   ],
   "source": [
    "votes = db['vote_average']\n",
    "votes_processed = votes.apply(\n",
    "    lambda x: \n",
    "    'EXTREMELY_GOOD' if x >= 8\n",
    "    else 'GOOD' if x >= 6\n",
    "    else 'MEDIAM' if x >= 4\n",
    "    else 'BAD')\n",
    "db['votes_processed'] = votes_processed\n",
    "db['votes_processed']"
   ]
  },
  {
   "cell_type": "code",
   "execution_count": 223,
   "metadata": {},
   "outputs": [
    {
     "data": {
      "text/plain": [
       "Index(['budget', 'genres', 'homepage', 'id', 'keywords', 'original_language',\n",
       "       'original_title', 'overview', 'popularity', 'production_companies',\n",
       "       'production_countries', 'release_date', 'revenue', 'runtime',\n",
       "       'spoken_languages', 'status', 'tagline', 'title', 'vote_average',\n",
       "       'vote_count'],\n",
       "      dtype='object')"
      ]
     },
     "execution_count": 223,
     "metadata": {},
     "output_type": "execute_result"
    }
   ],
   "source": [
    "origin_db.columns"
   ]
  },
  {
   "cell_type": "code",
   "execution_count": 224,
   "metadata": {},
   "outputs": [
    {
     "data": {
      "text/plain": [
       "0       POPULARITY_LEVEL_17.0\n",
       "1       POPULARITY_LEVEL_15.0\n",
       "2       POPULARITY_LEVEL_12.0\n",
       "3       POPULARITY_LEVEL_12.0\n",
       "4        POPULARITY_LEVEL_5.0\n",
       "                ...          \n",
       "4798     POPULARITY_LEVEL_1.0\n",
       "4799     POPULARITY_LEVEL_0.0\n",
       "4800     POPULARITY_LEVEL_0.0\n",
       "4801     POPULARITY_LEVEL_0.0\n",
       "4802     POPULARITY_LEVEL_0.0\n",
       "Name: popularities_processed, Length: 4799, dtype: object"
      ]
     },
     "execution_count": 224,
     "metadata": {},
     "output_type": "execute_result"
    }
   ],
   "source": [
    "popularities = origin_db['popularity']\n",
    "# origin_db.popularity.plot(kind='hist', bins=200)\n",
    "from sklearn.preprocessing import MinMaxScaler\n",
    "scaler = MinMaxScaler()\n",
    "popularities_processed = scaler.fit_transform(pd.DataFrame(popularities))\n",
    "popularities_processed = pd.DataFrame(popularities_processed,columns=['popularity'])['popularity']\n",
    "\n",
    "popularities_processed = popularities_processed.map(lambda x: 'POPULARITY_LEVEL_' + str(x * 100 // 1))\n",
    "db['popularities_processed'] = popularities_processed\n",
    "db['popularities_processed']"
   ]
  },
  {
   "cell_type": "code",
   "execution_count": null,
   "metadata": {},
   "outputs": [],
   "source": []
  },
  {
   "cell_type": "code",
   "execution_count": null,
   "metadata": {},
   "outputs": [],
   "source": []
  },
  {
   "cell_type": "code",
   "execution_count": null,
   "metadata": {},
   "outputs": [],
   "source": []
  },
  {
   "cell_type": "code",
   "execution_count": 225,
   "metadata": {},
   "outputs": [],
   "source": [
    "db['pure_genres'] = db['genres'].map(lambda row: ' '.join(\n",
    "    [item['name'] for item in json.loads(row)]))\n",
    "\n",
    "db['pure_genres'] *= weights['genres']\n",
    "\n",
    "db['pure_keywords'] = db['keywords'].map(lambda row: ' '.join(\n",
    "    [item['name'] for item in json.loads(row)]))"
   ]
  },
  {
   "cell_type": "code",
   "execution_count": 226,
   "metadata": {},
   "outputs": [
    {
     "data": {
      "text/plain": [
       "Index(['title', 'genres', 'keywords', 'spoken_languages', 'overview',\n",
       "       'production_companies', 'release_date', 'runtime', 'vote_average',\n",
       "       'processed_overview', 'revenue_categories', 'compaies_processed',\n",
       "       'languages_processed', 'years_processed', 'votes_processed',\n",
       "       'popularities_processed', 'pure_genres', 'pure_keywords'],\n",
       "      dtype='object')"
      ]
     },
     "execution_count": 226,
     "metadata": {},
     "output_type": "execute_result"
    }
   ],
   "source": [
    "db.columns"
   ]
  },
  {
   "cell_type": "code",
   "execution_count": 227,
   "metadata": {},
   "outputs": [
    {
     "data": {
      "text/html": [
       "<div>\n",
       "<style scoped>\n",
       "    .dataframe tbody tr th:only-of-type {\n",
       "        vertical-align: middle;\n",
       "    }\n",
       "\n",
       "    .dataframe tbody tr th {\n",
       "        vertical-align: top;\n",
       "    }\n",
       "\n",
       "    .dataframe thead th {\n",
       "        text-align: right;\n",
       "    }\n",
       "</style>\n",
       "<table border=\"1\" class=\"dataframe\">\n",
       "  <thead>\n",
       "    <tr style=\"text-align: right;\">\n",
       "      <th></th>\n",
       "      <th>title</th>\n",
       "      <th>overview</th>\n",
       "      <th>revenue</th>\n",
       "      <th>companies</th>\n",
       "      <th>year</th>\n",
       "      <th>popularity</th>\n",
       "      <th>genres</th>\n",
       "      <th>keywords</th>\n",
       "    </tr>\n",
       "  </thead>\n",
       "  <tbody>\n",
       "    <tr>\n",
       "      <th>0</th>\n",
       "      <td>Avatar</td>\n",
       "      <td>22nd centuri parapleg marin dispatch moon pand...</td>\n",
       "      <td>HIGH-REVENUE</td>\n",
       "      <td>Ingenious Film Partners Twentieth Century Fox ...</td>\n",
       "      <td>2000.0</td>\n",
       "      <td>POPULARITY_LEVEL_17.0</td>\n",
       "      <td>Action Adventure Fantasy Science FictionAction...</td>\n",
       "      <td>culture clash future space war space colony so...</td>\n",
       "    </tr>\n",
       "    <tr>\n",
       "      <th>1</th>\n",
       "      <td>Pirates of the Caribbean: At World's End</td>\n",
       "      <td>captain barbossa long believ dead come back li...</td>\n",
       "      <td>MEDIUM-REVENUE</td>\n",
       "      <td>Walt Disney Pictures Jerry Bruckheimer Films S...</td>\n",
       "      <td>2000.0</td>\n",
       "      <td>POPULARITY_LEVEL_15.0</td>\n",
       "      <td>Adventure Fantasy ActionAdventure Fantasy Acti...</td>\n",
       "      <td>ocean drug abuse exotic island east india trad...</td>\n",
       "    </tr>\n",
       "    <tr>\n",
       "      <th>2</th>\n",
       "      <td>Spectre</td>\n",
       "      <td>cryptic messag bond ’ past send trail uncov si...</td>\n",
       "      <td>MEDIUM-REVENUE</td>\n",
       "      <td>Columbia Pictures Danjaq B24</td>\n",
       "      <td>2010.0</td>\n",
       "      <td>POPULARITY_LEVEL_12.0</td>\n",
       "      <td>Action Adventure CrimeAction Adventure CrimeAc...</td>\n",
       "      <td>spy based on novel secret agent sequel mi6 bri...</td>\n",
       "    </tr>\n",
       "    <tr>\n",
       "      <th>3</th>\n",
       "      <td>The Dark Knight Rises</td>\n",
       "      <td>follow death district attorney harvey dent bat...</td>\n",
       "      <td>HIGH-REVENUE</td>\n",
       "      <td>Legendary Pictures Warner Bros. DC Entertainme...</td>\n",
       "      <td>2010.0</td>\n",
       "      <td>POPULARITY_LEVEL_12.0</td>\n",
       "      <td>Action Crime Drama ThrillerAction Crime Drama ...</td>\n",
       "      <td>dc comics crime fighter terrorist secret ident...</td>\n",
       "    </tr>\n",
       "    <tr>\n",
       "      <th>4</th>\n",
       "      <td>John Carter</td>\n",
       "      <td>john carter warweari former militari captain w...</td>\n",
       "      <td>LOW-REVENUE</td>\n",
       "      <td>Walt Disney Pictures</td>\n",
       "      <td>2010.0</td>\n",
       "      <td>POPULARITY_LEVEL_5.0</td>\n",
       "      <td>Action Adventure Science FictionAction Adventu...</td>\n",
       "      <td>based on novel mars medallion space travel pri...</td>\n",
       "    </tr>\n",
       "  </tbody>\n",
       "</table>\n",
       "</div>"
      ],
      "text/plain": [
       "                                      title  \\\n",
       "0                                    Avatar   \n",
       "1  Pirates of the Caribbean: At World's End   \n",
       "2                                   Spectre   \n",
       "3                     The Dark Knight Rises   \n",
       "4                               John Carter   \n",
       "\n",
       "                                            overview         revenue  \\\n",
       "0  22nd centuri parapleg marin dispatch moon pand...    HIGH-REVENUE   \n",
       "1  captain barbossa long believ dead come back li...  MEDIUM-REVENUE   \n",
       "2  cryptic messag bond ’ past send trail uncov si...  MEDIUM-REVENUE   \n",
       "3  follow death district attorney harvey dent bat...    HIGH-REVENUE   \n",
       "4  john carter warweari former militari captain w...     LOW-REVENUE   \n",
       "\n",
       "                                           companies    year  \\\n",
       "0  Ingenious Film Partners Twentieth Century Fox ...  2000.0   \n",
       "1  Walt Disney Pictures Jerry Bruckheimer Films S...  2000.0   \n",
       "2                       Columbia Pictures Danjaq B24  2010.0   \n",
       "3  Legendary Pictures Warner Bros. DC Entertainme...  2010.0   \n",
       "4                               Walt Disney Pictures  2010.0   \n",
       "\n",
       "              popularity                                             genres  \\\n",
       "0  POPULARITY_LEVEL_17.0  Action Adventure Fantasy Science FictionAction...   \n",
       "1  POPULARITY_LEVEL_15.0  Adventure Fantasy ActionAdventure Fantasy Acti...   \n",
       "2  POPULARITY_LEVEL_12.0  Action Adventure CrimeAction Adventure CrimeAc...   \n",
       "3  POPULARITY_LEVEL_12.0  Action Crime Drama ThrillerAction Crime Drama ...   \n",
       "4   POPULARITY_LEVEL_5.0  Action Adventure Science FictionAction Adventu...   \n",
       "\n",
       "                                            keywords  \n",
       "0  culture clash future space war space colony so...  \n",
       "1  ocean drug abuse exotic island east india trad...  \n",
       "2  spy based on novel secret agent sequel mi6 bri...  \n",
       "3  dc comics crime fighter terrorist secret ident...  \n",
       "4  based on novel mars medallion space travel pri...  "
      ]
     },
     "execution_count": 227,
     "metadata": {},
     "output_type": "execute_result"
    }
   ],
   "source": [
    "target_db = pd.DataFrame()\n",
    "target_db['title'] = origin_db['title']\n",
    "target_db['overview'] = db['processed_overview']\n",
    "target_db['revenue'] = db['revenue_categories']\n",
    "target_db['companies'] = db['compaies_processed']\n",
    "target_db['year'] = db['years_processed']\n",
    "target_db['popularity'] = db['popularities_processed']\n",
    "target_db['genres'] = db['pure_genres']\n",
    "target_db['keywords'] = db['pure_keywords']\n",
    "target_db.head()\n"
   ]
  },
  {
   "cell_type": "code",
   "execution_count": 228,
   "metadata": {},
   "outputs": [],
   "source": [
    "target_db.to_csv('target_db.csv', index='title')"
   ]
  },
  {
   "cell_type": "code",
   "execution_count": null,
   "metadata": {},
   "outputs": [],
   "source": []
  }
 ],
 "metadata": {
  "interpreter": {
   "hash": "5abc93cbcb415520e3d86f1fb30361769267febdf238c8940915524e1ef6e61c"
  },
  "kernelspec": {
   "display_name": "Python 3.9.7 ('base')",
   "language": "python",
   "name": "python3"
  },
  "language_info": {
   "codemirror_mode": {
    "name": "ipython",
    "version": 3
   },
   "file_extension": ".py",
   "mimetype": "text/x-python",
   "name": "python",
   "nbconvert_exporter": "python",
   "pygments_lexer": "ipython3",
   "version": "3.9.7"
  },
  "orig_nbformat": 4
 },
 "nbformat": 4,
 "nbformat_minor": 2
}
