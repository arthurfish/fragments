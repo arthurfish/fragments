{
 "cells": [
  {
   "cell_type": "markdown",
   "metadata": {},
   "source": [
    "## CPS1231 Homework 3: Selection "
   ]
  },
  {
   "cell_type": "markdown",
   "metadata": {},
   "source": [
    " Recall Programming Style and Documentation we discussed in class:\n",
    "\n",
    "\n",
    "*\tAppropriate Comments\n",
    "*\tNaming Conventions\n",
    "*\tProper Indentation and Spacing Lines\n",
    "*\tBlock Styles \n",
    "*\tDesign Recipe:\n",
    "    *\t//1. Think first! -> Design logic (before implementing!)\n",
    "    *\t//2. Create Class -> Write down the purpose/summary for your code\n",
    "    *\t//3. Divide your design logic into sub parts\n",
    "    *\t//4. Implement it.\n",
    "\n",
    "\n",
    "(Refer to Unit 2 slides for more details)\n",
    "\n",
    "You will benefit from good programming habit in long run. <b>These requirements will strictly be enforced in the assignment, which means you won’t get full score if fail to follow any above requirement. [Heavy Penality for Violation]</b>\n",
    "\n",
    "\n",
    "\n",
    "<b>\n",
    "Note: \n",
    "*  Make sure to hit \"run\" button to verify your code! Otherwise, -50% Penality will be given.\n",
    "*  Write down the purpose and class name clause as comment  in the beginning of each cell (Check out Example 1).\n",
    "\n",
    "</b>"
   ]
  },
  {
   "cell_type": "markdown",
   "metadata": {},
   "source": [
    "-------------------------------------------------------------------------------------------------------------------------"
   ]
  },
  {
   "cell_type": "markdown",
   "metadata": {},
   "source": [
    "<b>A sample program written in Eclipse with all requirements meet is shown below:</b>"
   ]
  },
  {
   "cell_type": "markdown",
   "metadata": {},
   "source": [
    "//Purpose: Compute the area of a circle with radius given\n",
    "\n",
    "public class ComputeCircleArea {\n",
    "\n",
    "\tpublic static void main(String[] args) {\n",
    "\t\t// area = PI * r * r;\n",
    "\t\t\n",
    "\t\t//1. Value for PI\n",
    "\t\tfinal double PI = 3.14159;\n",
    "\t\t\n",
    "\t\t//2. Value for r\n",
    "\t\tdouble radius = 1;\n",
    "\t\t\n",
    "\t\t//3. Compute the area\n",
    "\t\tdouble area = PI*radius*radius;\n",
    "\t\t\n",
    "\t\t//4. Print out the area\n",
    "\t\tSystem.out.println(\"The area for circle of radius: \"+\n",
    "\t\t\t\tradius+ \" is \"+ area);\n",
    "\n",
    "\t}\n",
    "\n",
    "}\n"
   ]
  },
  {
   "cell_type": "markdown",
   "metadata": {},
   "source": [
    "-------------------------------------------------------------------------------------------------------------------------"
   ]
  },
  {
   "cell_type": "markdown",
   "metadata": {},
   "source": [
    "### <span style=\"color:#a50e30;\">Example 1: </span> "
   ]
  },
  {
   "cell_type": "markdown",
   "metadata": {},
   "source": [
    "Write the program for computing the area of a circle"
   ]
  },
  {
   "cell_type": "code",
   "execution_count": 1,
   "metadata": {
    "scrolled": true
   },
   "outputs": [
    {
     "name": "stdout",
     "output_type": "stream",
     "text": [
      "The area for circle of radius: 1.0 is 3.14159\r\n"
     ]
    }
   ],
   "source": [
    "//Purpose: Compute the area of a circle with radius given\n",
    "//public class ComputeCircleArea \n",
    "\n",
    "\n",
    "    // area = PI * r * r;\n",
    "\n",
    "    //1. Value for PI\n",
    "    final double PI = 3.14159;\n",
    "\n",
    "    //2. Value for r\n",
    "    double radius = 1;\n",
    "\n",
    "    //3. Compute the area\n",
    "    double area = PI*radius*radius;\n",
    "\n",
    "    //4. Print out the area\n",
    "    System.out.println(\"The area for circle of radius: \"+\n",
    "    radius+ \" is \"+ area);"
   ]
  },
  {
   "cell_type": "markdown",
   "metadata": {},
   "source": [
    "-------------------------------------------------------------------------------------------------------------------------"
   ]
  },
  {
   "cell_type": "markdown",
   "metadata": {},
   "source": [
    "### <span style=\"color:#a50e30;\">Practice 1: </span> "
   ]
  },
  {
   "cell_type": "markdown",
   "metadata": {},
   "source": [
    "(*Random month*) Write a program that randomly generates an integer between 1 and 12 and displays the English month names January, February, . . . , December for the numbers 1, 2, . . . , 12, accordingly."
   ]
  },
  {
   "cell_type": "markdown",
   "metadata": {},
   "source": [
    "<b>[Please implement use multi-way if-else Statement]</b>"
   ]
  },
  {
   "cell_type": "markdown",
   "metadata": {},
   "source": [
    "***Write Your Code in Cell Below:***"
   ]
  },
  {
   "cell_type": "code",
   "execution_count": 2,
   "metadata": {},
   "outputs": [
    {
     "ename": "SyntaxError",
     "evalue": "invalid syntax (Temp/ipykernel_12060/964797862.py, line 1)",
     "output_type": "error",
     "traceback": [
      "\u001b[1;36m  File \u001b[1;32m\"C:\\Users\\ARTHUR~1\\AppData\\Local\\Temp/ipykernel_12060/964797862.py\"\u001b[1;36m, line \u001b[1;32m1\u001b[0m\n\u001b[1;33m    //Purpose: Calculate the current problem by some steps\u001b[0m\n\u001b[1;37m    ^\u001b[0m\n\u001b[1;31mSyntaxError\u001b[0m\u001b[1;31m:\u001b[0m invalid syntax\n"
     ]
    }
   ],
   "source": [
    "//Purpose: Calculate the current problem by some steps\n",
    "//and the output the result. With some information promt\n",
    "//and some variable defined then initialized.\n",
    "//\n",
    "//public static class MonthCalculator\n",
    "\n",
    "    //Step 1:\n",
    "    //Inport the tools that JDK prepared\n",
    "    //and inititalize the needed variables\n",
    "    //or some system refference for the above usage.\n",
    "    import java.util.Random;\n",
    "\n",
    "    \n",
    "    //Step 2:\n",
    "\t//Do some procedure with the data, make the quantities\n",
    "\t//fit the require of the problem, and make sure there\n",
    "\t//are no memory leak or logic error.\n",
    "    if(true)\n",
    "\n",
    "\n",
    "    //Step 3:\n",
    "\t//Since we get the needed result, then we output it\n",
    "\t//to the user to make all the procedure done. A whole\n",
    "\t//algorithm not only included input and procedure,\n",
    "\t//but also output.\n",
    "        System.out.println(new String[]{\"January\", \"February\", \"March\", \n",
    "                                        \"April\", \"May\", \"June\", \n",
    "                                        \"July\", \"August\", \"September\", \n",
    "                                        \"October\", \"November\", \"December\"}\n",
    "                                        [new Random().nextInt(12)]);"
   ]
  },
  {
   "cell_type": "markdown",
   "metadata": {},
   "source": [
    "### <span style=\"color:#a50e30;\">Practice 2: </span> "
   ]
  },
  {
   "cell_type": "markdown",
   "metadata": {},
   "source": [
    "Solve practice practice 1 using <b><i>switch</i></b> statment"
   ]
  },
  {
   "cell_type": "markdown",
   "metadata": {},
   "source": [
    "***Write Your Code in Cell Below:***"
   ]
  },
  {
   "cell_type": "code",
   "execution_count": 3,
   "metadata": {
    "collapsed": true
   },
   "outputs": [
    {
     "ename": "SyntaxError",
     "evalue": "invalid syntax (Temp/ipykernel_12060/1864037767.py, line 1)",
     "output_type": "error",
     "traceback": [
      "\u001b[1;36m  File \u001b[1;32m\"C:\\Users\\ARTHUR~1\\AppData\\Local\\Temp/ipykernel_12060/1864037767.py\"\u001b[1;36m, line \u001b[1;32m1\u001b[0m\n\u001b[1;33m    //Purpose: Calculate the current problem by some steps\u001b[0m\n\u001b[1;37m    ^\u001b[0m\n\u001b[1;31mSyntaxError\u001b[0m\u001b[1;31m:\u001b[0m invalid syntax\n"
     ]
    }
   ],
   "source": [
    "//Purpose: Calculate the current problem by some steps\n",
    "//and the output the result. With some information promt\n",
    "//and some variable defined then initialized.\n",
    "//\n",
    "//public static class MonthCalculator\n",
    "\n",
    "    //Step 1:\n",
    "    //Inport the tools that JDK prepared\n",
    "    //and inititalize the needed variables\n",
    "    //or some system refference for the above usage.\n",
    "    import java.util.Random;\n",
    "    var I = \"SB\";\n",
    "\n",
    "    //Step 2:\n",
    "\t//Do some procedure with the data, make the quantities\n",
    "\t//fit the require of the problem, and make sure there\n",
    "\t//are no memory leak or logic error.\n",
    "    switch(I){\n",
    "        case \"SB\":\n",
    "        \n",
    "        //Step 3:\n",
    "        //Since we get the needed result, then we output it\n",
    "        //to the user to make all the procedure done. A whole\n",
    "        //algorithm not only included input and procedure,\n",
    "        //but also output.\n",
    "        System.out.println(new String[]{\"January\", \"February\", \"March\", \n",
    "                                    \"April\", \"May\", \"June\", \n",
    "                                    \"July\", \"August\", \"September\", \n",
    "                                    \"October\", \"November\", \"December\"}\n",
    "                                    [new Random().nextInt(12)]);\n",
    "        break;\n",
    "    }"
   ]
  },
  {
   "cell_type": "markdown",
   "metadata": {},
   "source": [
    "### <span style=\"color:#a50e30;\">Practice 3: </span> "
   ]
  },
  {
   "cell_type": "markdown",
   "metadata": {},
   "source": [
    "(*Compute the perimeter of a triangle*) Write a program that reads three edges for a\n",
    "triangle and computes the perimeter if the input is valid. Otherwise, display that the\n",
    "input is invalid. The input is valid if the sum of every pair of two edges is greater\n",
    "than the remaining edge."
   ]
  },
  {
   "cell_type": "markdown",
   "metadata": {},
   "source": [
    "***Write Your Code in Cell Below:***"
   ]
  },
  {
   "cell_type": "code",
   "execution_count": 16,
   "metadata": {},
   "outputs": [
    {
     "name": "stdout",
     "output_type": "stream",
     "text": [
      "The Perimeter is 24.000000"
     ]
    },
    {
     "data": {
      "text/plain": [
       "java.io.PrintStream@7356fbdc"
      ]
     },
     "execution_count": 16,
     "metadata": {},
     "output_type": "execute_result"
    }
   ],
   "source": [
    "//Purpose: Calculate the current problem by some steps\n",
    "//and the output the result. With some information promt\n",
    "//and some variable defined then initialized.\n",
    "//\n",
    "//public static class TriangleCalculator\n",
    "\n",
    "    //Step 1:\n",
    "    //Inport the tools that JDK prepared\n",
    "    //and inititalize the needed variables\n",
    "    //or some system refference for the above usage.\n",
    "    import java.util.Scanner;\n",
    "    var input = new Scanner(System.in);\n",
    "    double  a = input.nextDouble(), \n",
    "            b = input.nextDouble(),\n",
    "            c = input.nextDouble();\n",
    "\n",
    "    //Step 2:\n",
    "\t//Do some procedure with the data, make the quantities\n",
    "\t//fit the require of the problem, and make sure there\n",
    "\t//are no memory leak or logic error.\n",
    "    if (!(a + b > c && a + c > b && b + c > a &&\n",
    "        a > 0 && b > 0 && c > 0))\n",
    "        System.out.println(\"The input is invalid!\");\n",
    "\n",
    "    \n",
    "    //Step 3:\n",
    "\t//Since we get the needed result, then we output it\n",
    "\t//to the user to make all the procedure done. A whole\n",
    "\t//algorithm not only included input and procedure,\n",
    "\t//but also output.\n",
    "    System.out.printf(\"The Perimeter is %f\", a+b+c);"
   ]
  },
  {
   "cell_type": "markdown",
   "metadata": {},
   "source": [
    "### <span style=\"color:#a50e30;\">Practice 4: </span> "
   ]
  },
  {
   "cell_type": "markdown",
   "metadata": {},
   "source": [
    "(*Business: check ISBN-10*) An ISBN-10 (International Standard Book Number) consists of 10 digits: d<sub>1</sub>d<sub>2</sub>d<sub>3</sub>d<sub>4</sub>d<sub>5</sub>d<sub>6</sub>d<sub>7</sub>d<sub>8</sub>d<sub>9</sub>d<sub>10</sub>. The last digit, d<sub>10</sub>, is a checksum,\n",
    "which is calculated from the other 9 digits using the following formula:\n",
    "(d<sub>1</sub> *1 + d<sub>2</sub> * 2 + d<sub>3</sub> * 3 + d<sub>4</sub> * 4 + d<sub>5</sub> * 5 + d<sub>6</sub> * 6 + d<sub>7</sub> * 7 + d<sub>8</sub> * 8 + d<sub>9</sub> * 9) % 11\n",
    "\n",
    "If the checksum is 10, the last digit is denoted as X according to the ISBN-10 convention. Write a program that prompts the user to enter the first 9 digits and displays the 10-digit ISBN (including leading zeros). Your program should read the input as an integer. Here are sample runs:"
   ]
  },
  {
   "cell_type": "code",
   "execution_count": 51,
   "metadata": {},
   "outputs": [
    {
     "name": "stdout",
     "output_type": "stream",
     "text": [
      "013031997X\n"
     ]
    }
   ],
   "source": []
  },
  {
   "cell_type": "code",
   "execution_count": 4,
   "metadata": {
    "scrolled": true
   },
   "outputs": [
    {
     "name": "stdout",
     "output_type": "stream",
     "text": [
      "Enter the first 9 digits of an ISBN as integer: 013031997\n",
      "The ISBN-10 number is 013031997X"
     ]
    }
   ],
   "source": []
  },
  {
   "cell_type": "markdown",
   "metadata": {},
   "source": [
    "***Write Your Code in Cell Below:***"
   ]
  },
  {
   "cell_type": "code",
   "execution_count": 53,
   "metadata": {
    "scrolled": true
   },
   "outputs": [
    {
     "name": "stdout",
     "output_type": "stream",
     "text": [
      "Enter the first 9 digits of an ISBN as integer: \n",
      "013031997X\n"
     ]
    }
   ],
   "source": [
    "//Purpose: Calculate the current problem by some steps\n",
    "//and the output the result. With some information promt\n",
    "//and some variable defined then initialized.\n",
    "//\n",
    "//public static class ISBNCalculator\n",
    "\n",
    "    //Step 1:\n",
    "    //Inport the tools that JDK prepared\n",
    "    //and inititalize the needed variables\n",
    "    //or some system refference for the above usage\n",
    "    import java.util.stream.*;\n",
    "    import java.util.Scanner;\n",
    "    var AX = 0;\n",
    "    var SP = 1;\n",
    "\n",
    "    //Step 2:\n",
    "    //Do some procedure with the data, make the quantities\n",
    "    //fit the require of the problem, and make sure there\n",
    "    //are no memory leak or logic error.\n",
    "    System.out.println(\"Enter the first 9 digits of an ISBN as integer: \");\n",
    "    Arrays.stream(new Scanner(System.in).nextLine().split(\"\")).forEach(n -> {System.out.print(n); AX += new Integer(n) * (SP++);});\n",
    "    \n",
    "    //Step 3:\n",
    "\t//Since we get the needed result, then we output it\n",
    "\t//to the user to make all the procedure done. A whole\n",
    "\t//algorithm not only included input and procedure,\n",
    "\t//but also output.\n",
    "    System.out.println(AX % 11 == 10 ? \"X\" : AX % 11);"
   ]
  },
  {
   "cell_type": "markdown",
   "metadata": {},
   "source": [
    "### <span style=\"color:#a50e30;\">Practice 5: </span> "
   ]
  },
  {
   "cell_type": "markdown",
   "metadata": {},
   "source": [
    "(*Geometry: two rectangles*) Write a program that prompts the user to enter the\n",
    "center x-, y-coordinates, width, and height of two rectangles and determines\n",
    "whether the second rectangle is inside the first or overlaps with the first, as shown\n",
    "in Figure 3.9. Test your program to cover all cases."
   ]
  },
  {
   "attachments": {
    "image.png": {
     "image/png": "[encoded data removed]"
    }
   },
   "cell_type": "markdown",
   "metadata": {},
   "source": [
    "![image.png](attachment:image.png)"
   ]
  },
  {
   "cell_type": "markdown",
   "metadata": {},
   "source": [
    "Here are the sample runs:"
   ]
  },
  {
   "cell_type": "code",
   "execution_count": 2,
   "metadata": {},
   "outputs": [
    {
     "name": "stdout",
     "output_type": "stream",
     "text": [
      "Enter r1's center x-, y-coordinates, width, and height: 2.5 4 2.5 43\n",
      "Enter r2's center x-, y-coordinates, width, and height: 1.5 5 0.5 3\n",
      "r2 is inside r1\n"
     ]
    }
   ],
   "source": []
  },
  {
   "cell_type": "code",
   "execution_count": 3,
   "metadata": {},
   "outputs": [
    {
     "name": "stdout",
     "output_type": "stream",
     "text": [
      "Enter r1's center x-, y-coordinates, width, and height: 1 2 3 5.5\n",
      "Enter r2's center x-, y-coordinates, width, and height: 3 4 4.5 5\n",
      "r2 overlaps r1\n"
     ]
    }
   ],
   "source": []
  },
  {
   "cell_type": "code",
   "execution_count": 4,
   "metadata": {
    "scrolled": true
   },
   "outputs": [
    {
     "name": "stdout",
     "output_type": "stream",
     "text": [
      "Enter r1's center x-, y-coordinates, width, and height: 1 2 3 3\n",
      "Enter r2's center x-, y-coordinates, width, and height: 40 45 3 2\n",
      "r2 does not overlap r1\n"
     ]
    }
   ],
   "source": []
  },
  {
   "cell_type": "markdown",
   "metadata": {},
   "source": [
    "***Write Your Code in Cell Below:***"
   ]
  },
  {
   "cell_type": "code",
   "execution_count": 58,
   "metadata": {},
   "outputs": [
    {
     "name": "stdout",
     "output_type": "stream",
     "text": [
      "Enter r1's center x-, y-coordinates, width, and height: \n",
      "Enter r2's center x-, y-coordinates, width, and height: \n",
      "r2 does not overlap r1\n"
     ]
    }
   ],
   "source": [
    "//Purpose: Calculate the current problem by some steps\n",
    "//and the output the result. With some information promt\n",
    "//and some variable defined then initialized.\n",
    "//\n",
    "//public static class RectagleCalculator\n",
    "\n",
    "    //Step 1:\n",
    "    //Inport the tools that JDK prepared\n",
    "    //and inititalize the needed variables\n",
    "    //or some system refference for the above usage.\n",
    "    import java.util.Scanner;\n",
    "    var in = new Scanner(System.in);\n",
    "\n",
    "    //Step 2:\n",
    "\t//Do some procedure with the data, make the quantities\n",
    "\t//fit the require of the problem, and make sure there\n",
    "\t//are no memory leak or logic error.\n",
    "    System.out.println(\"Enter r1's center x-, y-coordinates, width, and height: \");\n",
    "    var x1 = in.nextDouble();\n",
    "    var y1 = in.nextDouble();\n",
    "    var hl = in.nextDouble() / 2;\n",
    "    var vl = in.nextDouble() / 2;\n",
    "    System.out.println(\"Enter r2's center x-, y-coordinates, width, and height: \");\n",
    "    var x2 = in.nextDouble() - x1;\n",
    "    var y2 = in.nextDouble() - y1;\n",
    "    var hll = in.nextDouble() / 2;\n",
    "    var vll = in.nextDouble() / 2;\n",
    "    var xs = new double[]{x2 + hll, x2 + hll, x2 - hll, x2 - hll};\n",
    "    var ys = new double[]{y2 + vll, y2 - vll, y2 + vll, y2 - vll};\n",
    "    var AX = 0;\n",
    "    for(int i = 0; i < 4; i++) if(Math.abs(xs[i]) < hl && Math.abs(ys[i]) < vl) AX++;\n",
    "    \n",
    "    //Step 3:\n",
    "\t//Since we get the needed result, then we output it\n",
    "\t//to the user to make all the procedure done. A whole\n",
    "\t//algorithm not only included input and procedure,\n",
    "\t//but also output.\n",
    "    System.out.println(AX == 4 ? \"r2 is inside r1\" : (AX == 0 ? \"r2 does not overlap r1\" : \"r2 overlaps r1\"));"
   ]
  },
  {
   "cell_type": "markdown",
   "metadata": {},
   "source": [
    "For submission, you will need to upload the <em> Jupyter Notebook</em> file to Blackboard for grading. Make sure rename the file using your ***Chinese Name in Pinyin*** and ***Student ID***."
   ]
  },
  {
   "cell_type": "markdown",
   "metadata": {
    "collapsed": true
   },
   "source": [
    "------------------------------------***End of Homework 3***---------------------------------------------------------------------------"
   ]
  }
 ],
 "metadata": {
  "interpreter": {
   "hash": "b89b5cfaba6639976dc87ff2fec6d58faec662063367e2c229c520fe71072417"
  },
  "kernelspec": {
   "display_name": "Java",
   "language": "python",
   "name": "python3"
  },
  "language_info": {
   "codemirror_mode": {
    "name": "ipython",
    "version": 3
   },
   "file_extension": ".py",
   "mimetype": "text/x-python",
   "name": "python",
   "nbconvert_exporter": "python",
   "pygments_lexer": "ipython3",
   "version": "3.10.0"
  }
 },
 "nbformat": 4,
 "nbformat_minor": 2
}
