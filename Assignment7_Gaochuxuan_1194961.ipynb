{
 "cells": [
  {
   "cell_type": "markdown",
   "metadata": {},
   "source": [
    "## CPS1231 Homework 7: Loops"
   ]
  },
  {
   "cell_type": "markdown",
   "metadata": {},
   "source": [
    " "
   ]
  },
  {
   "cell_type": "markdown",
   "metadata": {},
   "source": [
    "### <span style=\"color:#a50e30;\">Task 1: </span> "
   ]
  },
  {
   "cell_type": "markdown",
   "metadata": {},
   "source": [
    "How about write a program that print “Welcome to Java” ***100*** or even ***1000*** times without using *Loop*? It looks like nightmare  right? Now, describe the purpose of *Loop* on your own words, and you should have a sense of the benefits apply Loop. Complete this task using any type of *Loop* we learned. "
   ]
  },
  {
   "cell_type": "markdown",
   "metadata": {},
   "source": [
    "***Write Your Description here:***"
   ]
  },
  {
   "cell_type": "markdown",
   "metadata": {},
   "source": [
    "Loop is a procedure which built to iterate or emuerate something. In Programming language field, loop can be implimented through goto statement or tail-recursion. In my opinion, loop is not just a structure to conduct some instrutions, but a mind set of programming design."
   ]
  },
  {
   "cell_type": "markdown",
   "metadata": {},
   "source": [
    "***Write Your Code in Cell Below:***"
   ]
  },
  {
   "cell_type": "code",
   "execution_count": null,
   "metadata": {
    "collapsed": true
   },
   "outputs": [],
   "source": []
  },
  {
   "cell_type": "markdown",
   "metadata": {},
   "source": [
    " "
   ]
  },
  {
   "cell_type": "markdown",
   "metadata": {},
   "source": [
    "### <span style=\"color:#a50e30;\">Task 2: </span> "
   ]
  },
  {
   "cell_type": "markdown",
   "metadata": {},
   "source": [
    "Write a simple program (using while loop) to simulate one complete cycle of Traffic Light.\n",
    "\n",
    "One cycle is shown below:\n",
    "* Red Light    -> 5 Seconds    (you can print “Red Light” 5 times)\n",
    "* Green Light  -> 3 Seconds    (you can print “Green Light” 3 times)\n",
    "* Yellow Light -> 1 Seconds    (you can print “Yellow Light” 1 times)"
   ]
  },
  {
   "cell_type": "markdown",
   "metadata": {},
   "source": [
    "*Sample Output:*"
   ]
  },
  {
   "cell_type": "code",
   "execution_count": 2,
   "metadata": {
    "scrolled": true
   },
   "outputs": [
    {
     "name": "stdout",
     "output_type": "stream",
     "text": [
      "Red Light\n",
      "Red Light\n",
      "Red Light\n",
      "Red Light\n",
      "Red Light\n",
      "Green Light\n",
      "Green Light\n",
      "Green Light\n",
      "Yellow Light\n"
     ]
    }
   ],
   "source": []
  },
  {
   "cell_type": "markdown",
   "metadata": {},
   "source": [
    "***Write Your Code in Cell Below:***"
   ]
  },
  {
   "cell_type": "code",
   "execution_count": 3,
   "metadata": {
    "scrolled": false
   },
   "outputs": [
    {
     "name": "stdout",
     "output_type": "stream",
     "text": [
      "Red Light\n",
      "Red Light\n",
      "Red Light\n",
      "Red Light\n",
      "Red Light\n",
      "Green Light\n",
      "Green Light\n",
      "Green Light\n",
      "Yellow Light\n"
     ]
    }
   ],
   "source": [
    "//Purpose: Calculate the current problem by some steps\n",
    "//and the output the result. With some information promt\n",
    "//and some variable defined then initialized.\n",
    "//\n",
    "//public static class TrafficLight\n",
    "\n",
    "//Step 1:\n",
    "//Inport the tools that JDK prepared\n",
    "//and inititalize the needed variables\n",
    "//or some system refference for the above usage.\n",
    "var i = 0;\n",
    "\n",
    "//Step 2:\n",
    "//Do some procedure with the data, make the quantities\n",
    "//fit the require of the problem, and make sure there\n",
    "//are no memory leak or logic error.\n",
    "i = 5;\n",
    "while(i-- > 0) System.out.println(\"Red Light\");\n",
    "i = 3;\n",
    "while(i-- > 0) System.out.println(\"Green Light\");\n",
    "i = 1;\n",
    "while(i-- > 0) System.out.println(\"Yellow Light\");\n",
    "//Step 3:\n",
    "//Since we get the needed result, then we output it\n",
    "//to the user to make all the procedure done. A whole\n",
    "//algorithm not only included input and procedure,\n",
    "//but also output."
   ]
  },
  {
   "cell_type": "markdown",
   "metadata": {},
   "source": [
    " "
   ]
  },
  {
   "cell_type": "markdown",
   "metadata": {},
   "source": [
    "### <span style=\"color:#a50e30;\">Task 3: </span> "
   ]
  },
  {
   "cell_type": "markdown",
   "metadata": {},
   "source": [
    "Write a program that randomly generates an integer between 0 and 100, inclusive(0, 100 should be included). The program prompts the user to enter a number, and print corresponding message to user (if the guess number is too high or too low, simply print “Your guess is too high” or “Your guess is too low”. Otherwise, print the correct number.)"
   ]
  },
  {
   "cell_type": "markdown",
   "metadata": {},
   "source": [
    "*Sample Output:*"
   ]
  },
  {
   "cell_type": "code",
   "execution_count": 4,
   "metadata": {},
   "outputs": [
    {
     "name": "stdout",
     "output_type": "stream",
     "text": [
      "Guess a magic number between 0 and 100 \n",
      "Enter your guess: \n",
      "12\n",
      "You guess is too low!\n"
     ]
    }
   ],
   "source": []
  },
  {
   "cell_type": "code",
   "execution_count": 4,
   "metadata": {},
   "outputs": [],
   "source": []
  },
  {
   "cell_type": "markdown",
   "metadata": {},
   "source": [
    "***Write Your Code in Cell Below:***"
   ]
  },
  {
   "cell_type": "code",
   "execution_count": 3,
   "metadata": {
    "scrolled": false
   },
   "outputs": [
    {
     "name": "stdout",
     "output_type": "stream",
     "text": [
      "You guess is too low.\n"
     ]
    }
   ],
   "source": [
    "\n",
    "//Purpose: Calculate the current problem by some steps\n",
    "//and the output the result. With some information promt\n",
    "//and some variable defined then initialized.\n",
    "//\n",
    "//public static class Guessor\n",
    "\n",
    "//Step 1:\n",
    "//Inport the tools that JDK prepared\n",
    "//and inititalize the needed variables\n",
    "//or some system refference for the above usage.\n",
    "import static java.lang.Math.*;\n",
    "var randomNumber = (int)(random() * 100);\n",
    "var keyboardInput = new Scanner(System.in);\n",
    "var guess = keyboardInput.nextInt();\n",
    "\n",
    "//Step 2:\n",
    "//Do some procedure with the data, make the quantities\n",
    "//fit the require of the problem, and make sure there\n",
    "//are no memory leak or logic error.\n",
    "if(randomNumber == guess) System.out.println(randomNumber);\n",
    "//Step 3:\n",
    "//Since we get the needed result, then we output it\n",
    "//to the user to make all the procedure done. A whole\n",
    "//algorithm not only included input and procedure,\n",
    "//but also output.\n",
    "else System.out.println(\"You guess is too \" + ((guess > randomNumber) ? \"high.\" : \"low.\"));"
   ]
  },
  {
   "cell_type": "markdown",
   "metadata": {},
   "source": [
    "#### <span style=\"color:#FFA500;\">Advanced Stpe: </span> "
   ]
  },
  {
   "cell_type": "markdown",
   "metadata": {},
   "source": [
    "Change the program, so the program prompts the user to enter a number continuously until the number matches the randomly generated number."
   ]
  },
  {
   "cell_type": "markdown",
   "metadata": {},
   "source": [
    "***Write Your Code in Cell Below:***"
   ]
  },
  {
   "cell_type": "code",
   "execution_count": 2,
   "metadata": {
    "scrolled": false
   },
   "outputs": [
    {
     "name": "stdout",
     "output_type": "stream",
     "text": [
      "You guess is too low.\n",
      "You guess is too low.\n",
      "You guess is too low.\n",
      "You guess is too high.\n",
      "You guess is too high.\n",
      "You guess is too high.\n",
      "You guess is too high.\n",
      "You guess is too high.\n",
      "You guess is too high.\n",
      "You guess is too high.\n",
      "You guess is too high.\n",
      "You guess is too high.\n",
      "You guess is too high.\n",
      "You guess is too low.\n",
      "You guess is too low.\n",
      "You guess is too low.\n",
      "You guess is too low.\n",
      "You are awesome!\n"
     ]
    }
   ],
   "source": [
    "//Purpose: Calculate the current problem by some steps\n",
    "//and the output the result. With some information promt\n",
    "//and some variable defined then initialized.\n",
    "//\n",
    "//public static class Guessor\n",
    "\n",
    "//Step 1:\n",
    "//Inport the tools that JDK prepared\n",
    "//and inititalize the needed variables\n",
    "//or some system refference for the above usage.\n",
    "import static java.lang.Math.*;\n",
    "var randomNumber = (int)(random() * 100);\n",
    "var keyboardInput = new Scanner(System.in);\n",
    "var guess = 0;\n",
    "\n",
    "//Step 2:\n",
    "//Do some procedure with the data, make the quantities\n",
    "//fit the require of the problem, and make sure there\n",
    "//are no memory leak or logic error.\n",
    "while(true){\n",
    "    guess = keyboardInput.nextInt();    \n",
    "    if(randomNumber == guess) {\n",
    "        System.out.println(\"You are awesome!\");\n",
    "        break;\n",
    "    }\n",
    "    //Step 3:\n",
    "    //Since we get the needed result, then we output it\n",
    "    //to the user to make all the procedure done. A whole\n",
    "    //algorithm not only included input and procedure,\n",
    "    //but also output.\n",
    "    else System.out.println(\"You guess is too \" + ((guess > randomNumber) ? \"high.\" : \"low.\"));\n",
    "}"
   ]
  },
  {
   "cell_type": "markdown",
   "metadata": {},
   "source": [
    " "
   ]
  },
  {
   "cell_type": "markdown",
   "metadata": {},
   "source": [
    "### <span style=\"color:#a50e30;\">Task 4: </span> "
   ]
  },
  {
   "cell_type": "markdown",
   "metadata": {},
   "source": [
    "Rewrite Traffic Light in Task 2 using do-while loop and for loop"
   ]
  },
  {
   "cell_type": "markdown",
   "metadata": {},
   "source": [
    "***Code for Do-While Loop:***"
   ]
  },
  {
   "cell_type": "code",
   "execution_count": 4,
   "metadata": {
    "collapsed": true
   },
   "outputs": [
    {
     "name": "stdout",
     "output_type": "stream",
     "text": [
      "Red Light.\n",
      "Red Light.\n",
      "Red Light.\n",
      "Red Light.\n",
      "Red Light.\n",
      "Green Light.\n",
      "Green Light.\n",
      "Green Light.\n",
      "Yellow Light.\n"
     ]
    }
   ],
   "source": [
    "//Purpose: Calculate the current problem by some steps\n",
    "//and the output the result. With some information promt\n",
    "//and some variable defined then initialized.\n",
    "//\n",
    "//public static class TraficLights\n",
    "\n",
    "//Step 1:\n",
    "//Inport the tools that JDK prepared\n",
    "//and inititalize the needed variables\n",
    "//or some system refference for the above usage.\n",
    "var i = 0;\n",
    "\n",
    "//Step 2:\n",
    "//Do some procedure with the data, make the quantities\n",
    "//fit the require of the problem, and make sure there\n",
    "//are no memory leak or logic error.\n",
    "i = 5;\n",
    "do{\n",
    "    //Step 3:\n",
    "    //Since we get the needed result, then we output it\n",
    "    //to the user to make all the procedure done. A whole\n",
    "    //algorithm not only included input and procedure,\n",
    "    //but also output.    \n",
    "    System.out.println(\"Red Light.\");\n",
    "}while(--i > 0);\n",
    "i = 3;\n",
    "do{\n",
    "    System.out.println(\"Green Light.\");\n",
    "}while(--i > 0);\n",
    "i = 1;\n",
    "do{\n",
    "    System.out.println(\"Yellow Light.\");\n",
    "}while(--i > 0);"
   ]
  },
  {
   "cell_type": "markdown",
   "metadata": {},
   "source": [
    "***Code for For Loop:***"
   ]
  },
  {
   "cell_type": "code",
   "execution_count": null,
   "metadata": {
    "collapsed": true
   },
   "outputs": [],
   "source": []
  },
  {
   "cell_type": "markdown",
   "metadata": {},
   "source": [
    " "
   ]
  },
  {
   "cell_type": "markdown",
   "metadata": {},
   "source": [
    "### <span style=\"color:#a50e30;\">Task 5: </span> "
   ]
  },
  {
   "cell_type": "markdown",
   "metadata": {},
   "source": [
    "Think about whether you can use do-while loop and for loop to accomplish the task 3. Why or why not?"
   ]
  },
  {
   "cell_type": "markdown",
   "metadata": {},
   "source": [
    "***Write Your Description here:***"
   ]
  },
  {
   "cell_type": "markdown",
   "metadata": {},
   "source": [
    "Yes. We can use do-while loop produce a infinite loop and use if-break structure to jump out of the loop."
   ]
  },
  {
   "cell_type": "markdown",
   "metadata": {},
   "source": [
    " "
   ]
  },
  {
   "cell_type": "markdown",
   "metadata": {},
   "source": [
    "### <span style=\"color:#a50e30;\">Task 6: </span> "
   ]
  },
  {
   "cell_type": "markdown",
   "metadata": {},
   "source": [
    "\n",
    "(*Financial application: compute future tuition*) Suppose that the tuition for a university is $10,000 this year and increases 6%  every year.\n",
    "\n",
    "In one year, the tuition will be $10,600. Write a program that computes the tuition in ten years and the total\n",
    "cost of four years’ worth of tuition after the tenth year."
   ]
  },
  {
   "cell_type": "code",
   "execution_count": 10,
   "metadata": {
    "scrolled": false
   },
   "outputs": [
    {
     "name": "stdout",
     "output_type": "stream",
     "text": [
      "Tuition in ten years is 131791\n",
      "The four-year tuition in ten years is 83013\n"
     ]
    },
    {
     "data": {
      "text/plain": [
       "java.io.PrintStream@3c7351e2"
      ]
     },
     "execution_count": 10,
     "metadata": {},
     "output_type": "execute_result"
    }
   ],
   "source": [
    "//Purpose: Calculate the current problem by some steps\n",
    "//and the output the result. With some information promt\n",
    "//and some variable defined then initialized.\n",
    "//\n",
    "//public static class TuitionCalculator\n",
    "\n",
    "//Step 1:\n",
    "//Inport the tools that JDK prepared\n",
    "//and inititalize the needed variables\n",
    "//or some system refference for the above usage.\n",
    "var tuition = 10000;\n",
    "var sumOfTuition = 0;\n",
    "\n",
    "//Step 2:\n",
    "//Do some procedure with the data, make the quantities\n",
    "//fit the require of the problem, and make sure there\n",
    "//are no memory leak or logic error.\n",
    "for(var i = 0; i < 10; i++) {sumOfTuition += tuition; tuition *= 1.06;}\n",
    "System.out.printf(\"Tuition in ten years is %d\\n\", sumOfTuition);\n",
    "\n",
    "tuition *= 1.06;\n",
    "\n",
    "var fouryearTuition = 0;\n",
    "for(var i = 0; i < 4; i++) {fouryearTuition += tuition; tuition *= 1.06;}\n",
    "//Step 3:\n",
    "//Since we get the needed result, then we output it\n",
    "//to the user to make all the procedure done. A whole\n",
    "//algorithm not only included input and procedure,\n",
    "//but also output.\n",
    "System.out.printf(\"The four-year tuition in ten years is %d\\n\", fouryearTuition);"
   ]
  },
  {
   "cell_type": "markdown",
   "metadata": {},
   "source": [
    "***Write Your Code in Cell Below:***"
   ]
  },
  {
   "cell_type": "code",
   "execution_count": null,
   "metadata": {
    "scrolled": false
   },
   "outputs": [],
   "source": []
  },
  {
   "cell_type": "markdown",
   "metadata": {},
   "source": [
    " "
   ]
  },
  {
   "cell_type": "markdown",
   "metadata": {},
   "source": [
    "### <span style=\"color:#a50e30;\">Task 7: </span> "
   ]
  },
  {
   "cell_type": "markdown",
   "metadata": {},
   "source": [
    "(*Display pyramid*) Write a program that prompts the user to enter an integer from 1 to 15 and displays a pyramid, as shown in the following sample run:"
   ]
  },
  {
   "cell_type": "markdown",
   "metadata": {},
   "source": [
    "***Write Your Code in Cell Below:***"
   ]
  },
  {
   "cell_type": "code",
   "execution_count": 15,
   "metadata": {},
   "outputs": [
    {
     "name": "stdout",
     "output_type": "stream",
     "text": [
      "7 6 5 4 3 2 1 2 3 4 5 6 7 \n",
      "  6 5 4 3 2 1 2 3 4 5 6 \n",
      "    5 4 3 2 1 2 3 4 5 \n",
      "      4 3 2 1 2 3 4 \n",
      "        3 2 1 2 3 \n",
      "          2 1 2 \n",
      "            1 \n"
     ]
    }
   ],
   "source": [
    "//Purpose: Calculate the current problem by some steps\n",
    "//and the output the result. With some information promt\n",
    "//and some variable defined then initialized.\n",
    "//\n",
    "//public static class TowerGenerator\n",
    "\n",
    "//Step 1:\n",
    "//Inport the tools that JDK prepared\n",
    "//and inititalize the needed variables\n",
    "//or some system refference for the above usage.\n",
    "var limit = new Scanner(System.in).nextInt();\n",
    "\n",
    "//Step 2:\n",
    "//Do some procedure with the data, make the quantities\n",
    "//fit the require of the problem, and make sure there\n",
    "//are no memory leak or logic error.\n",
    "for(var i = 0; i < limit; i++){\n",
    "    //Step 3:\n",
    "    //Since we get the needed result, then we output it\n",
    "    //to the user to make all the procedure done. A whole\n",
    "    //algorithm not only included input and procedure,\n",
    "    //but also output.    \n",
    "    for(var j = 0; j < i; j++) System.out.print(\"  \");\n",
    "    for(var j = limit - i; j > 1; j--) System.out.print(j + \" \");\n",
    "    \n",
    "    System.out.print(\"1 \");\n",
    "    for(var j = 2; j <= limit - i; j++) System.out.print(j + \" \");\n",
    "    System.out.println(\"\");\n",
    "}"
   ]
  },
  {
   "cell_type": "markdown",
   "metadata": {},
   "source": [
    " "
   ]
  },
  {
   "cell_type": "markdown",
   "metadata": {},
   "source": [
    "### <span style=\"color:#a50e30;\">Task 8: </span> "
   ]
  },
  {
   "cell_type": "markdown",
   "metadata": {},
   "source": [
    "(*Compute $\\pi$*) You can approximate p by using the following summation:\n",
    "\n",
    "\n",
    "$$\n",
    "\\pi\n",
    "= 4(1 - \\frac{1}{3} + \\frac{1}{5} - \\frac{1}{7} + \\frac{1}{9} - \\frac{1}{11} + ...+ \\frac{(-1)^{i+1}}{2i-1})\n",
    "$$\n"
   ]
  },
  {
   "cell_type": "markdown",
   "metadata": {},
   "source": [
    "***Write Your Code in Cell Below:***"
   ]
  },
  {
   "cell_type": "code",
   "execution_count": 20,
   "metadata": {
    "scrolled": true
   },
   "outputs": [
    {
     "name": "stdout",
     "output_type": "stream",
     "text": [
      "i: 10000 The PI is 3.141493\n",
      "i: 20000 The PI is 3.141543\n",
      "i: 30000 The PI is 3.141559\n",
      "i: 40000 The PI is 3.141568\n",
      "i: 50000 The PI is 3.141573\n",
      "i: 60000 The PI is 3.141576\n",
      "i: 70000 The PI is 3.141578\n",
      "i: 80000 The PI is 3.141580\n",
      "i: 90000 The PI is 3.141582\n",
      "i: 100000 The PI is 3.141583\n"
     ]
    }
   ],
   "source": [
    "//Purpose: Calculate the current problem by some steps\n",
    "//and the output the result. With some information promt\n",
    "//and some variable defined then initialized.\n",
    "//\n",
    "//public static class PiCalculator\n",
    "\n",
    "//Step 1:\n",
    "//Inport the tools that JDK prepared\n",
    "//and inititalize the needed variables\n",
    "//or some system refference for the above usage.\n",
    "for(var i = 10000; i <= 100000; i += 10000){\n",
    "    //Step 2:\n",
    "    //Do some procedure with the data, make the quantities\n",
    "    //fit the require of the problem, and make sure there\n",
    "    //are no memory leak or logic error.    \n",
    "    double pi = 0;\n",
    "    var sign = 1;\n",
    "    for(var j = 1; j <= i; j++){\n",
    "        pi += sign / (double)(2*j - 1);\n",
    "        sign *= -1;\n",
    "    }\n",
    "    pi *= 4;\n",
    "    //Step 3:\n",
    "    //Since we get the needed result, then we output it\n",
    "    //to the user to make all the procedure done. A whole\n",
    "    //algorithm not only included input and procedure,\n",
    "    //but also output.\n",
    "    System.out.printf(\"i: %d The PI is %f\\n\", i, pi);\n",
    "}"
   ]
  },
  {
   "cell_type": "markdown",
   "metadata": {},
   "source": [
    " "
   ]
  },
  {
   "cell_type": "markdown",
   "metadata": {},
   "source": [
    "### <span style=\"color:#a50e30;\">Task 9: </span> "
   ]
  },
  {
   "attachments": {
    "image.png": {
     "image/png": "[encoded data removed]"
    }
   },
   "cell_type": "markdown",
   "metadata": {},
   "source": [
    "(*Statistics: compute mean and standard deviation*) In business applications, you\n",
    "are often asked to compute the mean and standard deviation of data. The mean is\n",
    "simply the average of the numbers. The standard deviation is a statistic that tells\n",
    "you how tightly all the various data are clustered around the mean in a set of data.\n",
    "For example, what is the average age of the students in a class? How close are the\n",
    "ages? If all the students are the same age, the deviation is 0.\n",
    "Write a program that prompts the user to enter 10 numbers and displays the mean\n",
    "and standard deviations of these numbers using the following formula:\n",
    "\n",
    "![image.png](attachment:image.png)"
   ]
  },
  {
   "cell_type": "markdown",
   "metadata": {},
   "source": [
    "*Here is a sample run:*"
   ]
  },
  {
   "cell_type": "code",
   "execution_count": 28,
   "metadata": {},
   "outputs": [
    {
     "name": "stdout",
     "output_type": "stream",
     "text": [
      "5.61\n",
      "2.8440991543896637\n"
     ]
    }
   ],
   "source": [
    "//Purpose: Calculate the current problem by some steps\n",
    "//and the output the result. With some information promt\n",
    "//and some variable defined then initialized.\n",
    "//\n",
    "//public static class StaticsCalculator\n",
    "\n",
    "//Step 1:\n",
    "//Inport the tools that JDK prepared\n",
    "//and inititalize the needed variables\n",
    "//or some system refference for the above usage.\n",
    "import static java.lang.Math.*;\n",
    "var input = new Scanner(System.in);\n",
    "var array = new double[10];\n",
    "\n",
    "//Step 2:\n",
    "//Do some procedure with the data, make the quantities\n",
    "//fit the require of the problem, and make sure there\n",
    "//are no memory leak or logic error.\n",
    "for(var i = 0; i < 10; i++) array[i] = input.nextDouble();\n",
    "var mean = Arrays.stream(array).reduce(Double::sum).getAsDouble() / 10;\n",
    "var variance = Arrays.stream(array).map(x -> pow(x - mean, 2)).reduce(Double::sum).getAsDouble() / 10;\n",
    "var standardDeviation = sqrt(variance);\n",
    "//Step 3:\n",
    "//Since we get the needed result, then we output it\n",
    "//to the user to make all the procedure done. A whole\n",
    "//algorithm not only included input and procedure,\n",
    "//but also output.\n",
    "System.out.println(mean + \"\\n\" + standardDeviation);"
   ]
  },
  {
   "cell_type": "markdown",
   "metadata": {},
   "source": [
    "***Write Your Code in Cell Below:***"
   ]
  },
  {
   "cell_type": "code",
   "execution_count": 2,
   "metadata": {},
   "outputs": [
    {
     "name": "stdout",
     "output_type": "stream",
     "text": [
      "Enter 10 numbers: 1 2 3 4.5 5.6 6 7 8 9 10\n",
      "The mean is 5.61\n",
      "The standard deviation is 2.997943739743404\n"
     ]
    }
   ],
   "source": []
  },
  {
   "cell_type": "markdown",
   "metadata": {},
   "source": [
    "### <span style=\"color:#a50e30;\">Task 10: </span> "
   ]
  },
  {
   "cell_type": "markdown",
   "metadata": {},
   "source": [
    "(*Conversion from Cº to Fº*) Write a program that displays the following table (note\n",
    "that farenheit = celsius * 9/5 + 32):\n",
    "\n",
    "| Celsius | Fahrenheit |\n",
    "|---------|------------|\n",
    "| 0       | 32.0       |\n",
    "| 2       | 35.6       |\n",
    "| ...     |            |\n",
    "| 98      | 208.4      |\n",
    "| 100     | 212.0      |"
   ]
  },
  {
   "cell_type": "markdown",
   "metadata": {},
   "source": [
    "***Write Your Code in Cell Below:***"
   ]
  },
  {
   "cell_type": "code",
   "execution_count": 29,
   "metadata": {},
   "outputs": [
    {
     "name": "stdout",
     "output_type": "stream",
     "text": [
      "Celsius       Fahrenheit\n",
      "--------------------\n",
      "0\t\t32.000000\n",
      "1\t\t33.800000\n",
      "2\t\t35.600000\n",
      "3\t\t37.400000\n",
      "4\t\t39.200000\n",
      "5\t\t41.000000\n",
      "6\t\t42.800000\n",
      "7\t\t44.600000\n",
      "8\t\t46.400000\n",
      "9\t\t48.200000\n",
      "10\t\t50.000000\n",
      "11\t\t51.800000\n",
      "12\t\t53.600000\n",
      "13\t\t55.400000\n",
      "14\t\t57.200000\n",
      "15\t\t59.000000\n",
      "16\t\t60.800000\n",
      "17\t\t62.600000\n",
      "18\t\t64.400000\n",
      "19\t\t66.200000\n",
      "20\t\t68.000000\n",
      "21\t\t69.800000\n",
      "22\t\t71.600000\n",
      "23\t\t73.400000\n",
      "24\t\t75.200000\n",
      "25\t\t77.000000\n",
      "26\t\t78.800000\n",
      "27\t\t80.600000\n",
      "28\t\t82.400000\n",
      "29\t\t84.200000\n",
      "30\t\t86.000000\n",
      "31\t\t87.800000\n",
      "32\t\t89.600000\n",
      "33\t\t91.400000\n",
      "34\t\t93.200000\n",
      "35\t\t95.000000\n",
      "36\t\t96.800000\n",
      "37\t\t98.600000\n",
      "38\t\t100.400000\n",
      "39\t\t102.200000\n",
      "40\t\t104.000000\n",
      "41\t\t105.800000\n",
      "42\t\t107.600000\n",
      "43\t\t109.400000\n",
      "44\t\t111.200000\n",
      "45\t\t113.000000\n",
      "46\t\t114.800000\n",
      "47\t\t116.600000\n",
      "48\t\t118.400000\n",
      "49\t\t120.200000\n",
      "50\t\t122.000000\n",
      "51\t\t123.800000\n",
      "52\t\t125.600000\n",
      "53\t\t127.400000\n",
      "54\t\t129.200000\n",
      "55\t\t131.000000\n",
      "56\t\t132.800000\n",
      "57\t\t134.600000\n",
      "58\t\t136.400000\n",
      "59\t\t138.200000\n",
      "60\t\t140.000000\n",
      "61\t\t141.800000\n",
      "62\t\t143.600000\n",
      "63\t\t145.400000\n",
      "64\t\t147.200000\n",
      "65\t\t149.000000\n",
      "66\t\t150.800000\n",
      "67\t\t152.600000\n",
      "68\t\t154.400000\n",
      "69\t\t156.200000\n",
      "70\t\t158.000000\n",
      "71\t\t159.800000\n",
      "72\t\t161.600000\n",
      "73\t\t163.400000\n",
      "74\t\t165.200000\n",
      "75\t\t167.000000\n",
      "76\t\t168.800000\n",
      "77\t\t170.600000\n",
      "78\t\t172.400000\n",
      "79\t\t174.200000\n",
      "80\t\t176.000000\n",
      "81\t\t177.800000\n",
      "82\t\t179.600000\n",
      "83\t\t181.400000\n",
      "84\t\t183.200000\n",
      "85\t\t185.000000\n",
      "86\t\t186.800000\n",
      "87\t\t188.600000\n",
      "88\t\t190.400000\n",
      "89\t\t192.200000\n",
      "90\t\t194.000000\n",
      "91\t\t195.800000\n",
      "92\t\t197.600000\n",
      "93\t\t199.400000\n",
      "94\t\t201.200000\n",
      "95\t\t203.000000\n",
      "96\t\t204.800000\n",
      "97\t\t206.600000\n",
      "98\t\t208.400000\n",
      "99\t\t210.200000\n",
      "100\t\t212.000000\n"
     ]
    }
   ],
   "source": [
    "//Purpose: Calculate the current problem by some steps\n",
    "//and the output the result. With some information promt\n",
    "//and some variable defined then initialized.\n",
    "//\n",
    "//public static class FahrenheitCalculator\n",
    "\n",
    "//Step 1:\n",
    "//Inport the tools that JDK prepared\n",
    "//and inititalize the needed variables\n",
    "//or some system refference for the above usage.\n",
    "System.out.println(\"Celsius       Fahrenheit\");\n",
    "System.out.println(\"--------------------\");\n",
    "\n",
    "//Step 2:\n",
    "//Do some procedure with the data, make the quantities\n",
    "//fit the require of the problem, and make sure there\n",
    "//are no memory leak or logic error.\n",
    "\n",
    "//Step 3:\n",
    "//Since we get the needed result, then we output it\n",
    "//to the user to make all the procedure done. A whole\n",
    "//algorithm not only included input and procedure,\n",
    "//but also output.\n",
    "for(var i = 0; i <= 100; i++) System.out.printf(\"%d\\t\\t%f\\n\", i, i*1.8 + 32);\n"
   ]
  },
  {
   "cell_type": "markdown",
   "metadata": {},
   "source": [
    " "
   ]
  },
  {
   "cell_type": "markdown",
   "metadata": {},
   "source": [
    "For submission, you will need to upload the <em> Jupyter Notebook</em> file to Blackboard for grading. Make sure rename the file using your ***Chinese Name in Pinyin*** and ***Student ID***."
   ]
  },
  {
   "cell_type": "markdown",
   "metadata": {
    "collapsed": true
   },
   "source": [
    "------------------------------------***End of Homework 6***---------------------------------------------------------------------------"
   ]
  }
 ],
 "metadata": {
  "kernelspec": {
   "display_name": "Java",
   "language": "java",
   "name": "java"
  },
  "language_info": {
   "codemirror_mode": "java",
   "file_extension": ".jshell",
   "mimetype": "text/x-java-source",
   "name": "java",
   "pygments_lexer": "java",
   "version": "17.0.1+12-LTS-39"
  }
 },
 "nbformat": 4,
 "nbformat_minor": 2
}
