{
 "cells": [
  {
   "cell_type": "markdown",
   "metadata": {},
   "source": [
    "## CPS1231 Homework 4: JAVA 101"
   ]
  },
  {
   "cell_type": "markdown",
   "metadata": {},
   "source": [
    " "
   ]
  },
  {
   "cell_type": "markdown",
   "metadata": {},
   "source": [
    "### <span style=\"color:#a50e30;\">Requirement: </span> "
   ]
  },
  {
   "cell_type": "markdown",
   "metadata": {},
   "source": [
    "Recall Programming Style and Documentation we discussed in class:\n",
    "\n",
    "\n",
    "*\tAppropriate Comments\n",
    "*\tNaming Conventions\n",
    "*\tProper Indentation and Spacing Lines\n",
    "*\tBlock Styles \n",
    "*\tDesign Recipe:\n",
    "    *\t//1. Think first! -> Design logic (before implementing!)\n",
    "    *\t//2. Create Class -> Write down the purpose/summary for your code\n",
    "    *\t//3. Divide your design logic into sub parts\n",
    "    *\t//4. Implement it.\n",
    "\n",
    "\n",
    "(Refer to Unit 2 slides for more details)\n",
    "\n",
    "You will benefit from good programming habit in long run. <b>These requirements will strictly be enforced in the assignment, which means you won’t get full score if fail to follow any above requirement. [Heavy Penality for Violation]</b>\n",
    "\n",
    "\n",
    "\n",
    "<b>\n",
    "Note: \n",
    "*  Make sure to hit \"run\" button to verify your code! Otherwise, -50% Penality will be given.\n",
    "*  Write down the purpose and class name clause as comment  in the beginning of each cell (Check out Example 1).\n",
    "\n",
    "</b>\n"
   ]
  },
  {
   "cell_type": "markdown",
   "metadata": {},
   "source": [
    "-------------------------------------------------------------------------------------------------------------------------"
   ]
  },
  {
   "cell_type": "markdown",
   "metadata": {},
   "source": [
    "<b>A sample program written in Eclipse with all requirements meet is shown below:</b>"
   ]
  },
  {
   "cell_type": "markdown",
   "metadata": {},
   "source": [
    "//Purpose: Compute the area of a circle with radius given\n",
    "\n",
    "public class ComputeCircleArea {\n",
    "\n",
    "\tpublic static void main(String[] args) {\n",
    "\t\t// area = PI * r * r;\n",
    "\t\t\n",
    "\t\t//1. Value for PI\n",
    "\t\tfinal double PI = 3.14159;\n",
    "\t\t\n",
    "\t\t//2. Value for r\n",
    "\t\tdouble radius = 1;\n",
    "\t\t\n",
    "\t\t//3. Compute the area\n",
    "\t\tdouble area = PI*radius*radius;\n",
    "\t\t\n",
    "\t\t//4. Print out the area\n",
    "\t\tSystem.out.println(\"The area for circle of radius: \"+\n",
    "\t\t\t\tradius+ \" is \"+ area);\n",
    "\n",
    "\t}\n",
    "\n",
    "}\n"
   ]
  },
  {
   "cell_type": "markdown",
   "metadata": {},
   "source": [
    "-------------------------------------------------------------------------------------------------------------"
   ]
  },
  {
   "cell_type": "markdown",
   "metadata": {},
   "source": [
    "### <span style=\"color:#a50e30;\">Example 1: </span> "
   ]
  },
  {
   "cell_type": "markdown",
   "metadata": {},
   "source": [
    "Write the program for computing the area of a circle"
   ]
  },
  {
   "cell_type": "markdown",
   "metadata": {},
   "source": [
    "***Write Your Code in Cell Below:***"
   ]
  },
  {
   "cell_type": "code",
   "execution_count": 1,
   "metadata": {
    "scrolled": true
   },
   "outputs": [
    {
     "name": "stdout",
     "output_type": "stream",
     "text": [
      "Fuckyou: 1.0 is 3.14159\n"
     ]
    }
   ],
   "source": [
    "//Purpose: Compute the area of a circle with radius given\n",
    "//public class ComputeCircleArea \n",
    "\n",
    "\n",
    "    // area = PI * r * r;\n",
    "\n",
    "    //1. Value for PI\n",
    "    final double PI = 3.14159;\n",
    "\n",
    "    //2. Value for r\n",
    "    double radius = 1;\n",
    "\n",
    "    //3. Compute the area\n",
    "    double area = PI*radius*radius;\n",
    "\n",
    "    //4. Print out the area\n",
    "    System.out.println(\"Fuckyou: \"+\n",
    "    radius+ \" is \"+ area);"
   ]
  },
  {
   "cell_type": "markdown",
   "metadata": {},
   "source": [
    "-------------------------------------------------------------------------------------------------------------"
   ]
  },
  {
   "cell_type": "markdown",
   "metadata": {},
   "source": [
    "### <span style=\"color:#a50e30;\">Practice 1: </span> "
   ]
  },
  {
   "cell_type": "markdown",
   "metadata": {},
   "source": [
    "Write the purpose of following symbols:"
   ]
  },
  {
   "cell_type": "markdown",
   "metadata": {},
   "source": [
    "\n",
    " {  … }     \n",
    "\n"
   ]
  },
  {
   "cell_type": "markdown",
   "metadata": {},
   "source": [
    "***Purpose: Enclose a block about class or function or initialize block***"
   ]
  },
  {
   "cell_type": "markdown",
   "metadata": {},
   "source": [
    " "
   ]
  },
  {
   "cell_type": "markdown",
   "metadata": {},
   "source": [
    "\n",
    "(  …  )\n",
    "\n"
   ]
  },
  {
   "cell_type": "markdown",
   "metadata": {},
   "source": [
    "***Purpose: Change the priority of calculation or denote the argument list of a function***"
   ]
  },
  {
   "cell_type": "markdown",
   "metadata": {},
   "source": [
    " "
   ]
  },
  {
   "cell_type": "markdown",
   "metadata": {},
   "source": [
    "\n",
    ";\n"
   ]
  },
  {
   "cell_type": "markdown",
   "metadata": {},
   "source": [
    "***Purpose: End of a statement or expression***"
   ]
  },
  {
   "cell_type": "markdown",
   "metadata": {},
   "source": [
    " "
   ]
  },
  {
   "cell_type": "markdown",
   "metadata": {},
   "source": [
    "\n",
    "// …\n"
   ]
  },
  {
   "cell_type": "markdown",
   "metadata": {},
   "source": [
    "***Purpose: Comments that will not be pass to the compiler and we write it for easier way to understand the program***"
   ]
  },
  {
   "cell_type": "markdown",
   "metadata": {},
   "source": [
    "   "
   ]
  },
  {
   "cell_type": "markdown",
   "metadata": {},
   "source": [
    "\n",
    "\" … \""
   ]
  },
  {
   "cell_type": "markdown",
   "metadata": {},
   "source": [
    "***Purpose: Denote a string constant.***"
   ]
  },
  {
   "cell_type": "markdown",
   "metadata": {},
   "source": [
    "   "
   ]
  },
  {
   "cell_type": "markdown",
   "metadata": {},
   "source": [
    "### <span style=\"color:#a50e30;\">Practice 2: </span> "
   ]
  },
  {
   "cell_type": "markdown",
   "metadata": {},
   "source": [
    "Give an example that <b>violates Naming Conventions</b>:"
   ]
  },
  {
   "cell_type": "code",
   "execution_count": 2,
   "metadata": {},
   "outputs": [
    {
     "ename": "CompilationException",
     "evalue": "",
     "output_type": "error",
     "traceback": [
      "\u001b[1m\u001b[30m|   \u001b[1m\u001b[30mint \u001b[0m\u001b[1m\u001b[30m\u001b[41m\u001b[0m\u001b[1m\u001b[30m2hoc = 0;\u001b[0m",
      "\u001b[1m\u001b[31m需要 '.class'\u001b[0m",
      "",
      "\u001b[1m\u001b[30m|   \u001b[1m\u001b[30m\u001b[0m\u001b[1m\u001b[30m\u001b[41mint \u001b[0m\u001b[1m\u001b[30m2hoc = 0;\u001b[0m",
      "\u001b[1m\u001b[31m意外的类型\u001b[0m",
      "\u001b[1m\u001b[31m  需要: 值\u001b[0m",
      "\u001b[1m\u001b[31m  找到:    类\u001b[0m",
      "",
      "\u001b[1m\u001b[30m|   \u001b[1m\u001b[30mint 2\u001b[0m\u001b[1m\u001b[30m\u001b[41mhoc\u001b[0m\u001b[1m\u001b[30m = 0;\u001b[0m",
      "\u001b[1m\u001b[31m找不到符号\u001b[0m",
      "\u001b[1m\u001b[31m  符号:   变量 hoc\u001b[0m",
      "\u001b[1m\u001b[31m  位置: 类 \u001b[0m",
      ""
     ]
    }
   ],
   "source": [
    "int 2hoc = 0;"
   ]
  },
  {
   "cell_type": "markdown",
   "metadata": {},
   "source": [
    "### <span style=\"color:#a50e30;\">Practice 3: </span> "
   ]
  },
  {
   "cell_type": "markdown",
   "metadata": {},
   "source": [
    "Give an example that <b>shows Improper Indentation </b>:"
   ]
  },
  {
   "cell_type": "code",
   "execution_count": 4,
   "metadata": {},
   "outputs": [
    {
     "ename": "CompilationException",
     "evalue": "",
     "output_type": "error",
     "traceback": [
      "\u001b[1m\u001b[30m|   \u001b[1m\u001b[30mwhile(false)\u001b[0m\u001b[1m\u001b[30m\u001b[41m{\u001b[0m",
      "\u001b[1m\u001b[30m|   \u001b[1m\u001b[30m\u001b[41m    int a =0;\u001b[0m",
      "\u001b[1m\u001b[30m|   \u001b[1m\u001b[30m\u001b[41m        int b = 0;\u001b[0m",
      "\u001b[1m\u001b[30m|   \u001b[1m\u001b[30m\u001b[41m}\u001b[0m",
      "\u001b[1m\u001b[31m无法访问的语句\u001b[0m",
      "",
      "\u001b[1m\u001b[30m|   \u001b[1m\u001b[30m\u001b[0m\u001b[1m\u001b[30m\u001b[41mwhile(false){\u001b[0m",
      "\u001b[1m\u001b[30m|   \u001b[1m\u001b[30m\u001b[41m    int a =0;\u001b[0m",
      "\u001b[1m\u001b[30m|   \u001b[1m\u001b[30m\u001b[41m        int b = 0;\u001b[0m",
      "\u001b[1m\u001b[30m|   \u001b[1m\u001b[30m\u001b[41m}\u001b[0m",
      "\u001b[1m\u001b[31m缺少返回语句\u001b[0m",
      ""
     ]
    }
   ],
   "source": [
    "while(false){\n",
    "    int a =0;\n",
    "        int b = 0;\n",
    "}"
   ]
  },
  {
   "cell_type": "code",
   "execution_count": null,
   "metadata": {},
   "outputs": [],
   "source": []
  },
  {
   "cell_type": "markdown",
   "metadata": {},
   "source": [
    "### <span style=\"color:#a50e30;\">Practice 4: </span> "
   ]
  },
  {
   "cell_type": "markdown",
   "metadata": {},
   "source": [
    "Give an example that <b>shows Improper Spacing and Block Style </b>:"
   ]
  },
  {
   "cell_type": "code",
   "execution_count": 5,
   "metadata": {},
   "outputs": [
    {
     "ename": "IncompleteSourceException",
     "evalue": "while(1){\n    int x = 0;",
     "output_type": "error",
     "traceback": [
      "\u001b[1m\u001b[31mIncomplete input:\u001b[0m",
      "\u001b[1m\u001b[30m|   \u001b[1m\u001b[30mwhile(1){\u001b[0m",
      "\u001b[1m\u001b[30m|   \u001b[1m\u001b[30m    int x = 0;\u001b[0m"
     ]
    }
   ],
   "source": [
    "while(1){\n",
    "    int x = 0;"
   ]
  },
  {
   "cell_type": "markdown",
   "metadata": {},
   "source": [
    "### <span style=\"color:#a50e30;\">Practice 5: </span> "
   ]
  },
  {
   "cell_type": "markdown",
   "metadata": {},
   "source": [
    "(Display a pattern) Write a program that displays the following pattern:"
   ]
  },
  {
   "cell_type": "code",
   "execution_count": null,
   "metadata": {},
   "outputs": [],
   "source": [
    "    J                     \n",
    "    J  aaa   v   v  aaa   \n",
    "J   J  a a    v v   a a   \n",
    "  J    aaaa    v    aaaa  "
   ]
  },
  {
   "cell_type": "markdown",
   "metadata": {},
   "source": [
    "(Make sure to run the cell and preserve the output)"
   ]
  },
  {
   "cell_type": "markdown",
   "metadata": {},
   "source": [
    "***Write Your Code in Cell Below:***"
   ]
  },
  {
   "cell_type": "code",
   "execution_count": 1,
   "metadata": {},
   "outputs": [
    {
     "name": "stdout",
     "output_type": "stream",
     "text": [
      "    J                     \n",
      "    J  aaa   v   v  aaa   \n",
      "J   J  a a    v v   a a   \n",
      "  J    aaaa    v    aaa  \n"
     ]
    }
   ],
   "source": [
    "//Purpose: print the given string-block\n",
    "//public class GraphPrinter\n",
    "    import static java.lang.System.out;\n",
    "    //Step 1: Import library and define and initialize the needed variables and scanner object\n",
    "    //Maybe I can use string-plus method but this form is very convenient to paste from notepad.\n",
    "    //Step 2: Calculate the result by the algorithm and then output them to the stdout , so they are on the screen.\n",
    "    out.println(\"    J                     \");\n",
    "    out.println(\"    J  aaa   v   v  aaa   \");\n",
    "    out.println(\"J   J  a a    v v   a a   \");\n",
    "    out.println(\"  J    aaaa    v    aaa  \");"
   ]
  },
  {
   "cell_type": "markdown",
   "metadata": {},
   "source": [
    " "
   ]
  },
  {
   "cell_type": "markdown",
   "metadata": {},
   "source": [
    "### <span style=\"color:#a50e30;\">Practice 6: </span> "
   ]
  },
  {
   "cell_type": "markdown",
   "metadata": {},
   "source": [
    "(Population projection) The U.S. Census Bureau projects population based on the following assumptions:\n",
    "\n",
    "* One birth every 7 seconds\n",
    "* One death every 13 seconds\n",
    "* One new immigrant every 45 seconds\n",
    "\n",
    "Write a program to display the population for each of the next five years. Assume that the current population is 312,032,486, and one year has 365 days. Hint: In Java, if two integers perform division, the result is an integer. The fractional part is truncated.\n",
    "For example, 5 / 4 is 1 (not 1.25) and 10 / 4 is 2 (not 2.5). To get an accurate result with the fractional part, one of the values involved in the division must be a number with a decimal point. For example, 5.0 / 4 is 1.25 and 10 / 4.0 is 2.5."
   ]
  },
  {
   "cell_type": "markdown",
   "metadata": {},
   "source": [
    "***Write Your Code in Cell Below:***"
   ]
  },
  {
   "cell_type": "code",
   "execution_count": 9,
   "metadata": {
    "scrolled": false
   },
   "outputs": [
    {
     "name": "stdout",
     "output_type": "stream",
     "text": [
      "314812582\n",
      "317592678\n",
      "320372774\n",
      "323152870\n",
      "325932966\n"
     ]
    }
   ],
   "source": [
    "//Purpose: Calculate populations in 5 years by the give formula\n",
    "//public class PopulationCalculator\n",
    "    //I use big simulation way and brutal force to enumerate everysecond to product the answer.\n",
    "    //I agree it may be seem stupid, but it has the beauty of brutal\n",
    "\n",
    "    //Step 1: Import library and define and initialize the needed variables and scanner object\n",
    "    int accumulateSeconds = 0;\n",
    "    int inceasementPerYear = 0;\n",
    "    //This is my beautiful simulate process of brutal\n",
    "    for(int day = 0; day < 365; day++)\n",
    "        for(int hour = 0; hour < 24; hour++)\n",
    "            for(int minute = 0; minute < 60; minute++)\n",
    "                for(int second = 0; second < 60; second++){\n",
    "                    accumulateSeconds++;\n",
    "                    if(accumulateSeconds % 7 == 0) inceasementPerYear++;\n",
    "                    if(accumulateSeconds % 13 == 0) inceasementPerYear--;\n",
    "                    if(accumulateSeconds % 45 == 0) inceasementPerYear++;\n",
    "                }\n",
    "    //If I use stream, it may seem complicated more over so I selected daily loop.\n",
    "    int initialPopulation = 312032486;\n",
    "    int population = initialPopulation;\n",
    "    //Step 2: Calculate the result by the algorithm and then output them to the stdout , so they are on the screen.\n",
    "    for(int year = 0; year < 5; year++){\n",
    "        population += inceasementPerYear;\n",
    "        System.out.println(population);\n",
    "    }"
   ]
  },
  {
   "cell_type": "markdown",
   "metadata": {},
   "source": [
    " "
   ]
  },
  {
   "cell_type": "markdown",
   "metadata": {},
   "source": [
    "------------------------------------------------------------------------------------------------------------------------"
   ]
  },
  {
   "cell_type": "markdown",
   "metadata": {},
   "source": [
    "### <span style=\"color:#a50e30;\">Insert your Week 3-2 In-Class Practice Solution in Cells Below: </span> "
   ]
  },
  {
   "cell_type": "markdown",
   "metadata": {},
   "source": [
    "Remember to write down the steps"
   ]
  },
  {
   "cell_type": "markdown",
   "metadata": {},
   "source": [
    "#### <span style=\"color:#a51e30;\">Task 1: </span> "
   ]
  },
  {
   "cell_type": "markdown",
   "metadata": {},
   "source": [
    "***Write Your Code in Cell Below:***"
   ]
  },
  {
   "cell_type": "code",
   "execution_count": 10,
   "metadata": {},
   "outputs": [
    {
     "name": "stdout",
     "output_type": "stream",
     "text": [
      "The area for circle of radius: 1.5 is 7.0685834705770345\r\n"
     ]
    }
   ],
   "source": [
    "//Purpose: Calculate area from radius.\n",
    "\n",
    "//The fomula used in the program is S = PI * R^2\n",
    "\n",
    "//public class AreaCalculator\n",
    "    //Step 1: Calculate the result by the algorithm and then output them to the stdout , so they are on the screen.\n",
    "    System.out.println(\"The area for circle of radius: \"+1.5+\" is \"+ Math.PI * Math.pow(1.5, 2))"
   ]
  },
  {
   "cell_type": "markdown",
   "metadata": {},
   "source": [
    "#### <span style=\"color:#a51e30;\">Task 2: </span> "
   ]
  },
  {
   "cell_type": "markdown",
   "metadata": {},
   "source": [
    "***Write Your Code in Cell Below:***"
   ]
  },
  {
   "cell_type": "code",
   "execution_count": 1,
   "metadata": {},
   "outputs": [
    {
     "name": "stdout",
     "output_type": "stream",
     "text": [
      "2\n",
      "The area of such a radius is: 12.566370614359172\n"
     ]
    }
   ],
   "source": [
    "//Purpose: Calculate area from radius.\n",
    "\n",
    "//The fomula used in the program is S = PI * R^2\n",
    "\n",
    "import java.util.Scanner;\n",
    "//public class AreaCalculator\n",
    "\n",
    "    //Step 1: Import library and define and initialize the needed variables and scanner object\n",
    "    var console = new Scanner(System.in);\n",
    "    //Step 2: Calculate the result by the algorithm and then output them to the stdout , so they are on the screen.\n",
    "    System.out.println(\"The area of such a radius is: \" + Math.PI * Math.pow(console.nextDouble(), 2))"
   ]
  },
  {
   "cell_type": "markdown",
   "metadata": {},
   "source": [
    "#### <span style=\"color:#a51e30;\">Task 3: </span> "
   ]
  },
  {
   "cell_type": "markdown",
   "metadata": {},
   "source": [
    "***Write Your Code in Cell Below:***"
   ]
  },
  {
   "cell_type": "code",
   "execution_count": 1,
   "metadata": {},
   "outputs": [
    {
     "name": "stdout",
     "output_type": "stream",
     "text": [
      "3\n",
      "The perimeter of such a radius is: 18.84955592153876\n"
     ]
    }
   ],
   "source": [
    "//Purpose: Calculate Perimeter from radius.\n",
    "\n",
    "//The fomula used in the program is C = 2 * PI * R\n",
    "\n",
    "import java.util.Scanner;\n",
    "//public class PerimeterCalculator\n",
    "    //Step 1: Import library and define and initialize the needed variables and scanner object\n",
    "    var console = new Scanner(System.in);\n",
    "    //Step 2: Calculate the result by the algorithm and then output them to the stdout , so they are on the screen.\n",
    "    System.out.println(\"The perimeter of such a radius is: \" + 2 * Math.PI * console.nextDouble())"
   ]
  },
  {
   "cell_type": "markdown",
   "metadata": {},
   "source": [
    "#### <span style=\"color:#a51e30;\">Task 4: </span> "
   ]
  },
  {
   "cell_type": "markdown",
   "metadata": {},
   "source": [
    "***Write Your Code in Cell Below:***"
   ]
  },
  {
   "cell_type": "code",
   "execution_count": 3,
   "metadata": {},
   "outputs": [
    {
     "name": "stdout",
     "output_type": "stream",
     "text": [
      "Kilometers of current mile is: 7.5\n"
     ]
    }
   ],
   "source": [
    "//Purpose: transform mile to kilometers\n",
    "\n",
    "//The fomula used in the program is 1 mile = 1.6 kilometers\n",
    "\n",
    "import java.util.Scanner;\n",
    "//public class MileToKilometerTransformer\n",
    "    //Step 1: Import library and define and initialize the needed variables and scanner object\n",
    "    var console = new Scanner(System.in);\n",
    "    //Step 2: Calculate the result by the algorithm and then output them to the stdout , so they are on the screen.\n",
    "    System.out.println(\"Kilometers of current mile is: \" + console.nextDouble() / 1.6);"
   ]
  },
  {
   "cell_type": "markdown",
   "metadata": {},
   "source": [
    "#### <span style=\"color:#a51e30;\">Task 5: </span> "
   ]
  },
  {
   "cell_type": "markdown",
   "metadata": {},
   "source": [
    "***Write Your Code in Cell Below:***"
   ]
  },
  {
   "cell_type": "code",
   "execution_count": 1,
   "metadata": {},
   "outputs": [
    {
     "name": "stdout",
     "output_type": "stream",
     "text": [
      "1 2 3 4\n",
      "Middle point of gave points is (2.000000, 3.000000)"
     ]
    },
    {
     "data": {
      "text/plain": [
       "java.io.PrintStream@74aa9ecf"
      ]
     },
     "execution_count": 1,
     "metadata": {},
     "output_type": "execute_result"
    }
   ],
   "source": [
    "//Purpose: Calculate the middle point from two triple of integers.\n",
    "\n",
    "//The fomula used in the program is x_m = (x_1 + x_2) / 2, y_m = (y_1 + y_2) / 2\n",
    "\n",
    "import java.util.Scanner;\n",
    "//public class MiddlePointCalculator\n",
    "    //Step 1: Import library and define and initialize the needed variables and scanner object\n",
    "    var console = new Scanner(System.in);\n",
    "    var a = new double[4];\n",
    "    for(int i = 0; i < 4; i++) a[i] = console.nextDouble(); \n",
    "    //Step 2: Calculate the result by the algorithm and then output them to the stdout , so they are on the screen.\n",
    "    System.out.printf(\"Middle point of gave points is (%f, %f)\", (a[0]+a[2])/2, (a[1]+a[3])/2);"
   ]
  },
  {
   "cell_type": "markdown",
   "metadata": {},
   "source": [
    "#### <span style=\"color:#a51e30;\">Task 6: </span> "
   ]
  },
  {
   "cell_type": "markdown",
   "metadata": {},
   "source": [
    "***Write Your Code in Cell Below:***"
   ]
  },
  {
   "cell_type": "code",
   "execution_count": 2,
   "metadata": {},
   "outputs": [
    {
     "name": "stdout",
     "output_type": "stream",
     "text": [
      "10 12\n",
      "The total gratuity is 11.200000."
     ]
    },
    {
     "data": {
      "text/plain": [
       "java.io.PrintStream@3bdb6210"
      ]
     },
     "execution_count": 2,
     "metadata": {},
     "output_type": "execute_result"
    }
   ],
   "source": [
    "//Purpose: Get the total fee plused by subtotal and the gratuity gave\n",
    "\n",
    "//The fomula used in the program is t = g * (t + 1)\n",
    "\n",
    "import java.util.Scanner;\n",
    "//public class FeeCalculator\n",
    "    //Step 1: Import library and define and initialize the needed variables and scanner object\n",
    "    var console = new Scanner(System.in);\n",
    "    //Step 2: Calculate the result by the algorithm and then output them to the stdout , so they are on the screen.\n",
    "    System.out.printf(\"The total gratuity is %f.\", console.nextDouble()*(console.nextDouble()/100 + 1));"
   ]
  },
  {
   "cell_type": "markdown",
   "metadata": {},
   "source": [
    "#### <span style=\"color:#a51e30;\">Task 7: </span> "
   ]
  },
  {
   "cell_type": "markdown",
   "metadata": {},
   "source": [
    "***Write Your Code in Cell Below:***"
   ]
  },
  {
   "cell_type": "code",
   "execution_count": 1,
   "metadata": {},
   "outputs": [
    {
     "name": "stdout",
     "output_type": "stream",
     "text": [
      "11 12 13\n",
      "Average number is 12.000000."
     ]
    },
    {
     "data": {
      "text/plain": [
       "java.io.PrintStream@65179a69"
      ]
     },
     "execution_count": 1,
     "metadata": {},
     "output_type": "execute_result"
    }
   ],
   "source": [
    "//Purpose: A program to compute the average of three number given by user\n",
    "\n",
    "//The fomula used in the program is a_bar = (a_1 + a_2 + a_3) / 3\n",
    "\n",
    "import java.util.Scanner;\n",
    "//public class AverageCalculator\n",
    "    //Step 1: Import library and define and initialize the needed variables and scanner object\n",
    "    var console = new Scanner(System.in);\n",
    "    //Step 2: Calculate the result by the algorithm and then output them to the stdout , so they are on the screen.\n",
    "    System.out.printf(\"Average number is %f.\", (console.nextDouble() + console.nextDouble() + console.nextDouble())/3);"
   ]
  },
  {
   "cell_type": "markdown",
   "metadata": {},
   "source": [
    "#### <span style=\"color:#a51e30;\">Task 8: </span> "
   ]
  },
  {
   "cell_type": "markdown",
   "metadata": {},
   "source": [
    "***Write Your Code in Cell Below:***"
   ]
  },
  {
   "cell_type": "code",
   "execution_count": 1,
   "metadata": {},
   "outputs": [
    {
     "name": "stdout",
     "output_type": "stream",
     "text": [
      "3 5\n",
      "Triangle's area is 3.897114.\n",
      "Triangle's volume is 11.691343. \n"
     ]
    },
    {
     "data": {
      "text/plain": [
       "java.io.PrintStream@5e3cb02a"
      ]
     },
     "execution_count": 1,
     "metadata": {},
     "output_type": "execute_result"
    }
   ],
   "source": [
    "//Purpose:  a program that reads in the length of sides of an equilateral triangle\n",
    "//(where the length of three sides are equal) and computes the area and volume using the following formulas\n",
    "\n",
    "//The fomula used in the program is S = sqrt(3) / 4 * length ** 2\n",
    "\n",
    "import java.util.Scanner;\n",
    "//public class AreaCalculator\n",
    "    //Step 1: Import library and define and initialize the needed variables and scanner object\n",
    "    var console = new Scanner(System.in);\n",
    "    var length = console.nextDouble();\n",
    "    var height = console.nextDouble();\n",
    "    var area = Math.sqrt(3) / 4 * Math.pow(length, 2);\n",
    "    //Step 2: Calculate the result by the algorithm and then output them to the stdout , so they are on the screen.\n",
    "    System.out.printf(\"Triangle's area is %f.\\n\", area);\n",
    "    System.out.printf(\"Triangle's volume is %f. \\n\", area * length);"
   ]
  },
  {
   "cell_type": "markdown",
   "metadata": {},
   "source": [
    "#### <span style=\"color:#a51e30;\">Task 9: </span> "
   ]
  },
  {
   "cell_type": "markdown",
   "metadata": {},
   "source": [
    "***Write Your Code in Cell Below:***"
   ]
  },
  {
   "cell_type": "code",
   "execution_count": 1,
   "metadata": {},
   "outputs": [
    {
     "name": "stdout",
     "output_type": "stream",
     "text": [
      "1 3 2 5\n",
      "The distance of two point is 2.236068."
     ]
    },
    {
     "data": {
      "text/plain": [
       "java.io.PrintStream@31d14ce9"
      ]
     },
     "execution_count": 1,
     "metadata": {},
     "output_type": "execute_result"
    }
   ],
   "source": [
    "//Purpose:  Develop a program that prompts the user to enter two points (x1, y1) and (x2, y2) and displays their distance\n",
    "\n",
    "//The fomula used in the program is d = sqrt((x_2-x_1)**2+(y_2-y_1)**2)\n",
    "\n",
    "import java.util.Scanner;\n",
    "//public class DistanceCalculator\n",
    "    //Step 1: Import library and define and initialize the needed variables and scanner object\n",
    "    var console = new Scanner(System.in);\n",
    "    var a = new double[4];\n",
    "    for(var i = 0; i < 4; i++) a[i] = console.nextDouble();\n",
    "    //Step 2: Calculate the result by the algorithm and then output them to the stdout , so they are on the screen.\n",
    "    System.out.printf(\"The distance of two point is %f.\", Math.sqrt(Math.pow(a[2]-a[0], 2) + Math.pow(a[3]-a[1], 2)));"
   ]
  },
  {
   "cell_type": "markdown",
   "metadata": {},
   "source": [
    "#### <span style=\"color:#a51e30;\">Task 10: </span> "
   ]
  },
  {
   "cell_type": "markdown",
   "metadata": {},
   "source": [
    "***Write Your Code in Cell Below:***"
   ]
  },
  {
   "cell_type": "code",
   "execution_count": 1,
   "metadata": {},
   "outputs": [
    {
     "name": "stdout",
     "output_type": "stream",
     "text": [
      "15500 3.25 8\n",
      "Future value is 20095.352612."
     ]
    },
    {
     "data": {
      "text/plain": [
       "java.io.PrintStream@7670ed41"
      ]
     },
     "execution_count": 1,
     "metadata": {},
     "output_type": "execute_result"
    }
   ],
   "source": [
    "//Purpose:  Develop a program that reads in investment amount, annual interest rate, and number of years and \n",
    "//displays the future investment value\n",
    "\n",
    "//The fomula used in the program is \n",
    "//futureInvestmentValue = investmentAmount * (1 + monthlyInterestRate) ** (numberOfYears*12)\n",
    "\n",
    "import java.util.Scanner;\n",
    "//public class InvestmentCalculator\n",
    "    //Step 1: Import library and define and initialize the needed variables and scanner object\n",
    "    var console = new Scanner(System.in);\n",
    "    //Step 2: Calculate the result by the algorithm and then output them to the stdout , so they are on the screen.\n",
    "    System.out.printf(\"Future value is %f.\", console.nextDouble() * Math.pow(1 + console.nextDouble() /100 / 12, console.nextDouble() * 12));"
   ]
  },
  {
   "cell_type": "markdown",
   "metadata": {},
   "source": [
    "------------------------------------------------------------------------------------------------------------------------"
   ]
  },
  {
   "cell_type": "markdown",
   "metadata": {},
   "source": [
    "For submission, you will need to upload the <em> Jupyter Notebook</em> file to Blackboard for grading. Make sure rename the file with the **Assignment Number**, your ***Chinese Name in Pinyin*** and ***Student ID***."
   ]
  },
  {
   "cell_type": "markdown",
   "metadata": {
    "collapsed": true
   },
   "source": [
    "------------------------------------***End of Homework 2***---------------------------------------------------------------------------"
   ]
  }
 ],
 "metadata": {
  "interpreter": {
   "hash": "b89b5cfaba6639976dc87ff2fec6d58faec662063367e2c229c520fe71072417"
  },
  "kernelspec": {
   "display_name": "Java",
   "language": "java",
   "name": "java"
  },
  "language_info": {
   "codemirror_mode": "java",
   "file_extension": ".jshell",
   "mimetype": "text/x-java-source",
   "name": "Java",
   "pygments_lexer": "java",
   "version": "17.0.1+12-LTS-39"
  }
 },
 "nbformat": 4,
 "nbformat_minor": 2
}
